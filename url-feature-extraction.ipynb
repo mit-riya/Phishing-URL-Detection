{
 "cells": [
  {
   "cell_type": "markdown",
   "id": "ee4e79ef",
   "metadata": {
    "papermill": {
     "duration": 0.006238,
     "end_time": "2024-03-20T14:03:10.298879",
     "exception": false,
     "start_time": "2024-03-20T14:03:10.292641",
     "status": "completed"
    },
    "tags": []
   },
   "source": [
    "# **URL Feature Extraction**"
   ]
  },
  {
   "cell_type": "code",
   "execution_count": 1,
   "id": "ed30e0ba",
   "metadata": {
    "execution": {
     "iopub.execute_input": "2024-03-20T14:03:10.312916Z",
     "iopub.status.busy": "2024-03-20T14:03:10.312207Z",
     "iopub.status.idle": "2024-03-20T14:03:11.307432Z",
     "shell.execute_reply": "2024-03-20T14:03:11.306123Z"
    },
    "papermill": {
     "duration": 1.005105,
     "end_time": "2024-03-20T14:03:11.309985",
     "exception": false,
     "start_time": "2024-03-20T14:03:10.304880",
     "status": "completed"
    },
    "tags": []
   },
   "outputs": [
    {
     "name": "stdout",
     "output_type": "stream",
     "text": [
      "/kaggle/input/phishing-dataset/Phishing_dataset_02.csv\n",
      "/kaggle/input/phishing-dataset/phishing_site_urls.csv\n",
      "/kaggle/input/phishing-dataset/Phishing_dataset_03.csv\n",
      "/kaggle/input/phishing-dataset/Phishing_dataset_01.csv\n",
      "/kaggle/input/phishing-dataset/malicious_phish.csv\n",
      "/kaggle/input/phishing-dataset/Phishing_dataset_04.csv\n"
     ]
    }
   ],
   "source": [
    "# This Python 3 environment comes with many helpful analytics libraries installed\n",
    "# It is defined by the kaggle/python Docker image: https://github.com/kaggle/docker-python\n",
    "# For example, here's several helpful packages to load\n",
    "\n",
    "import numpy as np # linear algebra\n",
    "import pandas as pd # data processing, CSV file I/O (e.g. pd.read_csv)\n",
    "pd.options.mode.chained_assignment = None\n",
    "\n",
    "# Input data files are available in the read-only \"../input/\" directory\n",
    "# For example, running this (by clicking run or pressing Shift+Enter) will list all files under the input directory\n",
    "\n",
    "import os\n",
    "for dirname, _, filenames in os.walk('/kaggle/input'):\n",
    "    for filename in filenames:\n",
    "        print(os.path.join(dirname, filename))\n",
    "\n",
    "# You can write up to 20GB to the current directory (/kaggle/working/) that gets preserved as output when you create a version using \"Save & Run All\" \n",
    "# You can also write temporary files to /kaggle/temp/, but they won't be saved outside of the current session"
   ]
  },
  {
   "cell_type": "code",
   "execution_count": 2,
   "id": "a90f041e",
   "metadata": {
    "execution": {
     "iopub.execute_input": "2024-03-20T14:03:11.324546Z",
     "iopub.status.busy": "2024-03-20T14:03:11.323697Z",
     "iopub.status.idle": "2024-03-20T14:03:11.573768Z",
     "shell.execute_reply": "2024-03-20T14:03:11.572535Z"
    },
    "papermill": {
     "duration": 0.260207,
     "end_time": "2024-03-20T14:03:11.576331",
     "exception": false,
     "start_time": "2024-03-20T14:03:11.316124",
     "status": "completed"
    },
    "tags": []
   },
   "outputs": [
    {
     "name": "stdout",
     "output_type": "stream",
     "text": [
      "status\n",
      "legitimate    5715\n",
      "phishing      5715\n",
      "Name: count, dtype: int64\n",
      "Index(['url', 'login_form', 'links_in_tags', 'iframe', 'popup_window',\n",
      "       'safe_anchor', 'onmouseover', 'right_clic', 'whois_registered_domain',\n",
      "       'domain_registration_length', 'domain_age', 'web_traffic', 'dns_record',\n",
      "       'google_index', 'page_rank', 'status'],\n",
      "      dtype='object')\n"
     ]
    },
    {
     "data": {
      "text/html": [
       "<div>\n",
       "<style scoped>\n",
       "    .dataframe tbody tr th:only-of-type {\n",
       "        vertical-align: middle;\n",
       "    }\n",
       "\n",
       "    .dataframe tbody tr th {\n",
       "        vertical-align: top;\n",
       "    }\n",
       "\n",
       "    .dataframe thead th {\n",
       "        text-align: right;\n",
       "    }\n",
       "</style>\n",
       "<table border=\"1\" class=\"dataframe\">\n",
       "  <thead>\n",
       "    <tr style=\"text-align: right;\">\n",
       "      <th></th>\n",
       "      <th>url</th>\n",
       "      <th>login_form</th>\n",
       "      <th>links_in_tags</th>\n",
       "      <th>iframe</th>\n",
       "      <th>popup_window</th>\n",
       "      <th>safe_anchor</th>\n",
       "      <th>onmouseover</th>\n",
       "      <th>right_clic</th>\n",
       "      <th>whois_registered_domain</th>\n",
       "      <th>domain_registration_length</th>\n",
       "      <th>domain_age</th>\n",
       "      <th>web_traffic</th>\n",
       "      <th>dns_record</th>\n",
       "      <th>google_index</th>\n",
       "      <th>page_rank</th>\n",
       "      <th>status</th>\n",
       "    </tr>\n",
       "  </thead>\n",
       "  <tbody>\n",
       "    <tr>\n",
       "      <th>0</th>\n",
       "      <td>http://www.crestonwood.com/router.php</td>\n",
       "      <td>0</td>\n",
       "      <td>80.000000</td>\n",
       "      <td>0</td>\n",
       "      <td>0</td>\n",
       "      <td>0.0</td>\n",
       "      <td>0</td>\n",
       "      <td>0</td>\n",
       "      <td>0</td>\n",
       "      <td>45</td>\n",
       "      <td>-1</td>\n",
       "      <td>0</td>\n",
       "      <td>1</td>\n",
       "      <td>1</td>\n",
       "      <td>4</td>\n",
       "      <td>legitimate</td>\n",
       "    </tr>\n",
       "    <tr>\n",
       "      <th>1</th>\n",
       "      <td>http://shadetreetechnology.com/V4/validation/a...</td>\n",
       "      <td>0</td>\n",
       "      <td>100.000000</td>\n",
       "      <td>0</td>\n",
       "      <td>0</td>\n",
       "      <td>100.0</td>\n",
       "      <td>0</td>\n",
       "      <td>0</td>\n",
       "      <td>0</td>\n",
       "      <td>77</td>\n",
       "      <td>5767</td>\n",
       "      <td>0</td>\n",
       "      <td>0</td>\n",
       "      <td>1</td>\n",
       "      <td>2</td>\n",
       "      <td>phishing</td>\n",
       "    </tr>\n",
       "    <tr>\n",
       "      <th>2</th>\n",
       "      <td>https://support-appleld.com.secureupdate.duila...</td>\n",
       "      <td>0</td>\n",
       "      <td>100.000000</td>\n",
       "      <td>0</td>\n",
       "      <td>0</td>\n",
       "      <td>100.0</td>\n",
       "      <td>0</td>\n",
       "      <td>0</td>\n",
       "      <td>0</td>\n",
       "      <td>14</td>\n",
       "      <td>4004</td>\n",
       "      <td>5828815</td>\n",
       "      <td>0</td>\n",
       "      <td>1</td>\n",
       "      <td>0</td>\n",
       "      <td>phishing</td>\n",
       "    </tr>\n",
       "    <tr>\n",
       "      <th>3</th>\n",
       "      <td>http://rgipt.ac.in</td>\n",
       "      <td>0</td>\n",
       "      <td>100.000000</td>\n",
       "      <td>0</td>\n",
       "      <td>0</td>\n",
       "      <td>62.5</td>\n",
       "      <td>0</td>\n",
       "      <td>0</td>\n",
       "      <td>0</td>\n",
       "      <td>62</td>\n",
       "      <td>-1</td>\n",
       "      <td>107721</td>\n",
       "      <td>0</td>\n",
       "      <td>0</td>\n",
       "      <td>3</td>\n",
       "      <td>legitimate</td>\n",
       "    </tr>\n",
       "    <tr>\n",
       "      <th>4</th>\n",
       "      <td>http://www.iracing.com/tracks/gateway-motorspo...</td>\n",
       "      <td>1</td>\n",
       "      <td>76.470588</td>\n",
       "      <td>0</td>\n",
       "      <td>0</td>\n",
       "      <td>0.0</td>\n",
       "      <td>0</td>\n",
       "      <td>0</td>\n",
       "      <td>0</td>\n",
       "      <td>224</td>\n",
       "      <td>8175</td>\n",
       "      <td>8725</td>\n",
       "      <td>0</td>\n",
       "      <td>0</td>\n",
       "      <td>6</td>\n",
       "      <td>legitimate</td>\n",
       "    </tr>\n",
       "  </tbody>\n",
       "</table>\n",
       "</div>"
      ],
      "text/plain": [
       "                                                 url  login_form  \\\n",
       "0              http://www.crestonwood.com/router.php           0   \n",
       "1  http://shadetreetechnology.com/V4/validation/a...           0   \n",
       "2  https://support-appleld.com.secureupdate.duila...           0   \n",
       "3                                 http://rgipt.ac.in           0   \n",
       "4  http://www.iracing.com/tracks/gateway-motorspo...           1   \n",
       "\n",
       "   links_in_tags  iframe  popup_window  safe_anchor  onmouseover  right_clic  \\\n",
       "0      80.000000       0             0          0.0            0           0   \n",
       "1     100.000000       0             0        100.0            0           0   \n",
       "2     100.000000       0             0        100.0            0           0   \n",
       "3     100.000000       0             0         62.5            0           0   \n",
       "4      76.470588       0             0          0.0            0           0   \n",
       "\n",
       "   whois_registered_domain  domain_registration_length  domain_age  \\\n",
       "0                        0                          45          -1   \n",
       "1                        0                          77        5767   \n",
       "2                        0                          14        4004   \n",
       "3                        0                          62          -1   \n",
       "4                        0                         224        8175   \n",
       "\n",
       "   web_traffic  dns_record  google_index  page_rank      status  \n",
       "0            0           1             1          4  legitimate  \n",
       "1            0           0             1          2    phishing  \n",
       "2      5828815           0             1          0    phishing  \n",
       "3       107721           0             0          3  legitimate  \n",
       "4         8725           0             0          6  legitimate  "
      ]
     },
     "execution_count": 2,
     "metadata": {},
     "output_type": "execute_result"
    }
   ],
   "source": [
    "# Load the dataset\n",
    "data = pd.read_csv(\"/kaggle/input/phishing-dataset/Phishing_dataset_02.csv\")\n",
    "\n",
    "# drop unnecessary columns from the dataframe\n",
    "data = data.drop(data.columns[1:66], axis=1)\n",
    "data = data.drop(data.columns[2:3], axis=1)\n",
    "data = data.drop(data.columns[4:6], axis=1)\n",
    "data = data.drop(data.columns[10:13], axis=1)\n",
    "data = data.drop(data.columns[3:5], axis=1)\n",
    "\n",
    "# print number of phishing and legitimate urls\n",
    "print(data['status'].value_counts())\n",
    "\n",
    "# print the column names\n",
    "print(data.columns)\n",
    "\n",
    "data.head()"
   ]
  },
  {
   "cell_type": "markdown",
   "id": "94488f30",
   "metadata": {
    "papermill": {
     "duration": 0.006293,
     "end_time": "2024-03-20T14:03:11.589146",
     "exception": false,
     "start_time": "2024-03-20T14:03:11.582853",
     "status": "completed"
    },
    "tags": []
   },
   "source": [
    "## Feature Extraction Functions"
   ]
  },
  {
   "cell_type": "code",
   "execution_count": 3,
   "id": "d7c2437a",
   "metadata": {
    "execution": {
     "iopub.execute_input": "2024-03-20T14:03:11.604212Z",
     "iopub.status.busy": "2024-03-20T14:03:11.603800Z",
     "iopub.status.idle": "2024-03-20T14:03:11.609138Z",
     "shell.execute_reply": "2024-03-20T14:03:11.607924Z"
    },
    "papermill": {
     "duration": 0.015801,
     "end_time": "2024-03-20T14:03:11.611488",
     "exception": false,
     "start_time": "2024-03-20T14:03:11.595687",
     "status": "completed"
    },
    "tags": []
   },
   "outputs": [],
   "source": [
    "# Import headers\n",
    "\n",
    "import re\n",
    "from urllib.parse import *"
   ]
  },
  {
   "cell_type": "code",
   "execution_count": 4,
   "id": "fa2842fa",
   "metadata": {
    "execution": {
     "iopub.execute_input": "2024-03-20T14:03:11.627159Z",
     "iopub.status.busy": "2024-03-20T14:03:11.626108Z",
     "iopub.status.idle": "2024-03-20T14:03:11.636725Z",
     "shell.execute_reply": "2024-03-20T14:03:11.635347Z"
    },
    "papermill": {
     "duration": 0.021138,
     "end_time": "2024-03-20T14:03:11.639329",
     "exception": false,
     "start_time": "2024-03-20T14:03:11.618191",
     "status": "completed"
    },
    "tags": []
   },
   "outputs": [
    {
     "name": "stdout",
     "output_type": "stream",
     "text": [
      "-1\n",
      "1\n"
     ]
    }
   ],
   "source": [
    "# Embedded Domain: Examines dot-separated domain/hostname patterns in the URL path.\n",
    "\n",
    "def embedded_domain(url):\n",
    "    # Extract the domain from the URL\n",
    "    domain = urlparse(url).netloc\n",
    "    # Split the domain into its components\n",
    "    domain_parts = domain.split('.')\n",
    "    \n",
    "    # Checking whether the url is similar to a well-known domain\n",
    "    # If it is, we return 1, else 0\n",
    "    well_known_URLs = ['google', 'facebook', 'twitter', 'linkedin', 'youtube', 'instagram', 'pinterest', 'amazon', 'snapchat', 'reddit', 'flickr', 'whatsapp', 'quora', 'vimeo', 'periscope', 'vine', 'meetup', 'tagged', 'askfm', 'meetme', 'meetup', 'myspace', 'stumbleupon', 'delicious', 'digg', 'slashdot', 'fark', 'newsvine', 'foursquare', 'yelp', 'tripadvisor', 'zomato', 'opentable']\n",
    "    \n",
    "    for well_known_URL in well_known_URLs:\n",
    "        for domain_part in domain_parts:\n",
    "            if len(set(domain_part)&set(well_known_URL)) == len(well_known_URL) - 1:\n",
    "                return 1\n",
    "    return -1\n",
    "\n",
    "\n",
    "# Example usage\n",
    "url1 = \"http://www.google.com\"\n",
    "url2 = \"http://www.facehook.com\"\n",
    "\n",
    "print(embedded_domain(url1))\n",
    "print(embedded_domain(url2))"
   ]
  },
  {
   "cell_type": "code",
   "execution_count": 5,
   "id": "8ca7e2f5",
   "metadata": {
    "execution": {
     "iopub.execute_input": "2024-03-20T14:03:11.655130Z",
     "iopub.status.busy": "2024-03-20T14:03:11.654737Z",
     "iopub.status.idle": "2024-03-20T14:03:11.662284Z",
     "shell.execute_reply": "2024-03-20T14:03:11.661122Z"
    },
    "papermill": {
     "duration": 0.019653,
     "end_time": "2024-03-20T14:03:11.666006",
     "exception": false,
     "start_time": "2024-03-20T14:03:11.646353",
     "status": "completed"
    },
    "tags": []
   },
   "outputs": [
    {
     "name": "stdout",
     "output_type": "stream",
     "text": [
      "1\n",
      "-1\n"
     ]
    }
   ],
   "source": [
    "# IP Address: Attackers often employ IP address in the URL\n",
    "# to disguise a webpage’s malicious nature, while legitimate\n",
    "# websites almost always use domain names instead of IP\n",
    "# addresses due to their easy memorability.\n",
    "\n",
    "def having_ip_address(url):\n",
    "    # Regular expression to match IP address pattern\n",
    "    ip_address_pattern = r'\\b\\d{1,3}\\.\\d{1,3}\\.\\d{1,3}\\.\\d{1,3}\\b'\n",
    "\n",
    "    # Search for the pattern in the URL\n",
    "    match = re.search(ip_address_pattern, url)\n",
    "\n",
    "    if match:\n",
    "        # print match.group()\n",
    "        return -1\n",
    "    else:\n",
    "        # print 'No matching pattern found'\n",
    "        return 1\n",
    "    \n",
    "# Example usage\n",
    "url1 = \"https://www.google.com\"\n",
    "url2 = \"172.0.0.1\"\n",
    "\n",
    "print(having_ip_address(url1))\n",
    "print(having_ip_address(url2))"
   ]
  },
  {
   "cell_type": "code",
   "execution_count": 6,
   "id": "caec1660",
   "metadata": {
    "execution": {
     "iopub.execute_input": "2024-03-20T14:03:11.681945Z",
     "iopub.status.busy": "2024-03-20T14:03:11.681572Z",
     "iopub.status.idle": "2024-03-20T14:03:11.687905Z",
     "shell.execute_reply": "2024-03-20T14:03:11.686609Z"
    },
    "papermill": {
     "duration": 0.017525,
     "end_time": "2024-03-20T14:03:11.690753",
     "exception": false,
     "start_time": "2024-03-20T14:03:11.673228",
     "status": "completed"
    },
    "tags": []
   },
   "outputs": [
    {
     "name": "stdout",
     "output_type": "stream",
     "text": [
      "2\n"
     ]
    }
   ],
   "source": [
    "# Number of dots in URL: Phishing pages tend to use more\n",
    "# dots in their URLs than the legitimate sites.\n",
    "def no_of_dots(url):\n",
    "    return url.count('.')\n",
    "\n",
    "# Example usage\n",
    "url = \"https://www.google.com\"\n",
    "\n",
    "print(no_of_dots(url))"
   ]
  },
  {
   "cell_type": "code",
   "execution_count": 7,
   "id": "c57d9874",
   "metadata": {
    "execution": {
     "iopub.execute_input": "2024-03-20T14:03:11.707632Z",
     "iopub.status.busy": "2024-03-20T14:03:11.707193Z",
     "iopub.status.idle": "2024-03-20T14:03:11.716856Z",
     "shell.execute_reply": "2024-03-20T14:03:11.715383Z"
    },
    "papermill": {
     "duration": 0.021067,
     "end_time": "2024-03-20T14:03:11.719498",
     "exception": false,
     "start_time": "2024-03-20T14:03:11.698431",
     "status": "completed"
    },
    "tags": []
   },
   "outputs": [
    {
     "name": "stdout",
     "output_type": "stream",
     "text": [
      "{'https:': 1, 'www': 1, 'google': 1, 'com': 1, 'search': 1, 'q': 1, 'feature+extraction+from+url': 1, 'oq': 1, 'aqs': 1, 'chrome': 1, '69i57j0l7': 1, '10257j0j7': 1, 'sourceid': 1, 'ie': 1, 'UTF': 1, '8': 1}\n"
     ]
    }
   ],
   "source": [
    "# Lexical features: The URL string is broken down into\n",
    "# multiple tokens. Each token constitutes a binary feature.\n",
    "# The delimiters to obtain the tokens are ‘/’, ‘?’, ‘.’, ‘=’, ‘ ’,\n",
    "# ‘&’, and ‘-’\n",
    "\n",
    "def extract_lexical_features(url):\n",
    "    # Parse the URL\n",
    "    parsed_url = urlparse(url)\n",
    "\n",
    "    # Define delimiters\n",
    "    delimiters = ['/', '?', '.', '=', ' ', '&', '-']\n",
    "\n",
    "    # Split the url into tokens based on the delimiters\n",
    "    tokens = re.split('|'.join(map(re.escape, delimiters)), parsed_url.geturl())\n",
    "\n",
    "    # Remove empty tokens\n",
    "    tokens = list(filter(None, tokens))\n",
    "\n",
    "    # Initialize a dictionary to store binary features for each token\n",
    "    lexical_features = {}\n",
    "\n",
    "    # Extract binary features for each token\n",
    "    for token in tokens:\n",
    "        lexical_features[token] = 1\n",
    "    \n",
    "    return lexical_features\n",
    "\n",
    "# Example usage\n",
    "\n",
    "url = 'https://www.google.com/search?q=feature+extraction+from+url&oq=feature+extraction+from+url&aqs=chrome..69i57j0l7.10257j0j7&sourceid=chrome&ie=UTF-8'\n",
    "\n",
    "print(extract_lexical_features(url))"
   ]
  },
  {
   "cell_type": "code",
   "execution_count": 8,
   "id": "8e4f5972",
   "metadata": {
    "execution": {
     "iopub.execute_input": "2024-03-20T14:03:11.736527Z",
     "iopub.status.busy": "2024-03-20T14:03:11.736106Z",
     "iopub.status.idle": "2024-03-20T14:03:11.744407Z",
     "shell.execute_reply": "2024-03-20T14:03:11.743333Z"
    },
    "papermill": {
     "duration": 0.019946,
     "end_time": "2024-03-20T14:03:11.746862",
     "exception": false,
     "start_time": "2024-03-20T14:03:11.726916",
     "status": "completed"
    },
    "tags": []
   },
   "outputs": [
    {
     "name": "stdout",
     "output_type": "stream",
     "text": [
      "0\n",
      "1\n"
     ]
    }
   ],
   "source": [
    "# Number of sensitive words in URL: In (Garera et al., 2007),\n",
    "# Garera et al summarized a set of eight sensitive words that\n",
    "# frequently appear in phishing URLs. This is a numeric feature with a range of 0 to 8.\n",
    "\n",
    "def no_of_sensitive_words(url):\n",
    "    sensitive_words = ['confirm', 'account', 'banking', 'secure', 'ebayisapi', 'webscr', 'login', 'signin']\n",
    "    count = 0\n",
    "    for word in sensitive_words:\n",
    "        if word in url:\n",
    "            count += 1\n",
    "    return count\n",
    "\n",
    "# Example usage\n",
    "url1 = \"https://www.google.com\"\n",
    "url2 = \"http://www.abc.com/confirm\"\n",
    "\n",
    "print(no_of_sensitive_words(url1))\n",
    "print(no_of_sensitive_words(url2))"
   ]
  },
  {
   "cell_type": "code",
   "execution_count": 9,
   "id": "38a8df07",
   "metadata": {
    "execution": {
     "iopub.execute_input": "2024-03-20T14:03:11.764070Z",
     "iopub.status.busy": "2024-03-20T14:03:11.763601Z",
     "iopub.status.idle": "2024-03-20T14:03:11.772306Z",
     "shell.execute_reply": "2024-03-20T14:03:11.771080Z"
    },
    "papermill": {
     "duration": 0.020031,
     "end_time": "2024-03-20T14:03:11.774481",
     "exception": false,
     "start_time": "2024-03-20T14:03:11.754450",
     "status": "completed"
    },
    "tags": []
   },
   "outputs": [
    {
     "name": "stdout",
     "output_type": "stream",
     "text": [
      "1\n",
      "-1\n"
     ]
    }
   ],
   "source": [
    "# Out-of-Position Top Level Domain (TLD): Checks for\n",
    "# unusual positioning of TLDs in the URL.\n",
    "\n",
    "def out_of_position_tld(url):\n",
    "    tld = ['com', 'org', 'net', 'edu', 'gov', 'in']\n",
    "    \n",
    "    # domain = urlparse(url).netloc\n",
    "    # check if the TLD is in the middle of the domain\n",
    "    tokens = url.split('.')\n",
    "    for i in range(len(tokens) - 1):\n",
    "        if tokens[i] in tld:\n",
    "            return -1\n",
    "    return 1\n",
    "\n",
    "# Example usage\n",
    "url1 = 'http://www.google.com'\n",
    "url2 = 'http://www.google.com.in'\n",
    "    \n",
    "print(out_of_position_tld(url1))\n",
    "print(out_of_position_tld(url2))"
   ]
  },
  {
   "cell_type": "code",
   "execution_count": 10,
   "id": "dd5078e3",
   "metadata": {
    "execution": {
     "iopub.execute_input": "2024-03-20T14:03:11.791840Z",
     "iopub.status.busy": "2024-03-20T14:03:11.791466Z",
     "iopub.status.idle": "2024-03-20T14:03:11.798486Z",
     "shell.execute_reply": "2024-03-20T14:03:11.797189Z"
    },
    "papermill": {
     "duration": 0.018937,
     "end_time": "2024-03-20T14:03:11.801269",
     "exception": false,
     "start_time": "2024-03-20T14:03:11.782332",
     "status": "completed"
    },
    "tags": []
   },
   "outputs": [
    {
     "name": "stdout",
     "output_type": "stream",
     "text": [
      "-1\n",
      "1\n"
     ]
    }
   ],
   "source": [
    "# Check if the website is using HTTPS\n",
    "def https_token(url):\n",
    "    https_tokens = url.split('//')[0]\n",
    "    if https_tokens == 'https:':\n",
    "        return 1\n",
    "    else:\n",
    "        return -1\n",
    "\n",
    "# Example usage\n",
    "url1 = 'http://www.google.com'\n",
    "url2 = 'https://www.google.com'\n",
    "\n",
    "print(https_token(url1))\n",
    "print(https_token(url2))"
   ]
  },
  {
   "cell_type": "code",
   "execution_count": 11,
   "id": "fb776106",
   "metadata": {
    "execution": {
     "iopub.execute_input": "2024-03-20T14:03:11.819272Z",
     "iopub.status.busy": "2024-03-20T14:03:11.818846Z",
     "iopub.status.idle": "2024-03-20T14:03:11.823993Z",
     "shell.execute_reply": "2024-03-20T14:03:11.822878Z"
    },
    "papermill": {
     "duration": 0.017052,
     "end_time": "2024-03-20T14:03:11.826447",
     "exception": false,
     "start_time": "2024-03-20T14:03:11.809395",
     "status": "completed"
    },
    "tags": []
   },
   "outputs": [],
   "source": [
    "# Get the length of the URL\n",
    "def url_length(url):\n",
    "    return len(url)"
   ]
  },
  {
   "cell_type": "code",
   "execution_count": 12,
   "id": "57d0e6b7",
   "metadata": {
    "execution": {
     "iopub.execute_input": "2024-03-20T14:03:11.844324Z",
     "iopub.status.busy": "2024-03-20T14:03:11.843854Z",
     "iopub.status.idle": "2024-03-20T14:03:11.854947Z",
     "shell.execute_reply": "2024-03-20T14:03:11.854110Z"
    },
    "papermill": {
     "duration": 0.022915,
     "end_time": "2024-03-20T14:03:11.857241",
     "exception": false,
     "start_time": "2024-03-20T14:03:11.834326",
     "status": "completed"
    },
    "tags": []
   },
   "outputs": [
    {
     "name": "stdout",
     "output_type": "stream",
     "text": [
      "-1\n",
      "1\n"
     ]
    }
   ],
   "source": [
    "# If the URL is using Shortening Services, the value assigned to this feature is 1 (phishing) or else -1 (legitimate).\n",
    "\n",
    "# listing shortening services\n",
    "shortening_services = r\"bit\\.ly|goo\\.gl|shorte\\.st|go2l\\.ink|x\\.co|ow\\.ly|t\\.co|tinyurl|tr\\.im|is\\.gd|cli\\.gs|\" \\\n",
    "                      r\"yfrog\\.com|migre\\.me|ff\\.im|tiny\\.cc|url4\\.eu|twit\\.ac|su\\.pr|twurl\\.nl|snipurl\\.com|\" \\\n",
    "                      r\"short\\.to|BudURL\\.com|ping\\.fm|post\\.ly|Just\\.as|bkite\\.com|snipr\\.com|fic\\.kr|loopt\\.us|\" \\\n",
    "                      r\"doiop\\.com|short\\.ie|kl\\.am|wp\\.me|rubyurl\\.com|om\\.ly|to\\.ly|bit\\.do|t\\.co|lnkd\\.in|db\\.tt|\" \\\n",
    "                      r\"qr\\.ae|adf\\.ly|goo\\.gl|bitly\\.com|cur\\.lv|tinyurl\\.com|ow\\.ly|bit\\.ly|ity\\.im|q\\.gs|is\\.gd|\" \\\n",
    "                      r\"po\\.st|bc\\.vc|twitthis\\.com|u\\.to|j\\.mp|buzurl\\.com|cutt\\.us|u\\.bb|yourls\\.org|x\\.co|\" \\\n",
    "                      r\"prettylinkpro\\.com|scrnch\\.me|filoops\\.info|vzturl\\.com|qr\\.net|1url\\.com|tweez\\.me|v\\.gd|\" \\\n",
    "                      r\"tr\\.im|link\\.zip\\.net\"\n",
    "\n",
    "# Checking for Shortening Services in URL (Tiny_URL)\n",
    "def tinyURL(url):\n",
    "    match=re.search(shortening_services,url)\n",
    "    if match:\n",
    "        return 1\n",
    "    else:\n",
    "        return -1\n",
    "\n",
    "# Example usage\n",
    "url1 = 'http://www.google.com'\n",
    "url2 = 'https://goo.gl'\n",
    "\n",
    "print(tinyURL(url1))\n",
    "print(tinyURL(url2))"
   ]
  },
  {
   "cell_type": "code",
   "execution_count": 13,
   "id": "b3046396",
   "metadata": {
    "execution": {
     "iopub.execute_input": "2024-03-20T14:03:11.875242Z",
     "iopub.status.busy": "2024-03-20T14:03:11.874863Z",
     "iopub.status.idle": "2024-03-20T14:03:11.882627Z",
     "shell.execute_reply": "2024-03-20T14:03:11.880940Z"
    },
    "papermill": {
     "duration": 0.020045,
     "end_time": "2024-03-20T14:03:11.885308",
     "exception": false,
     "start_time": "2024-03-20T14:03:11.865263",
     "status": "completed"
    },
    "tags": []
   },
   "outputs": [
    {
     "name": "stdout",
     "output_type": "stream",
     "text": [
      "-1\n",
      "1\n"
     ]
    }
   ],
   "source": [
    "# Checking for Prefix or Suffix Separated by (-) in the Domain (Prefix/Suffix)\n",
    "def prefixSuffix(url):\n",
    "    if '-' in urlparse(url).netloc:\n",
    "        return 1            # phishing\n",
    "    else:\n",
    "        return -1            # legitimate\n",
    "    \n",
    "# Example usage\n",
    "url1 = 'http://www.google.com'\n",
    "url2 = 'http://www.go-ogle.com'\n",
    "\n",
    "print(prefixSuffix(url1))\n",
    "print(prefixSuffix(url2))"
   ]
  },
  {
   "cell_type": "code",
   "execution_count": 14,
   "id": "97c15f24",
   "metadata": {
    "execution": {
     "iopub.execute_input": "2024-03-20T14:03:11.904818Z",
     "iopub.status.busy": "2024-03-20T14:03:11.904430Z",
     "iopub.status.idle": "2024-03-20T14:03:11.912066Z",
     "shell.execute_reply": "2024-03-20T14:03:11.910826Z"
    },
    "papermill": {
     "duration": 0.021709,
     "end_time": "2024-03-20T14:03:11.915335",
     "exception": false,
     "start_time": "2024-03-20T14:03:11.893626",
     "status": "completed"
    },
    "tags": []
   },
   "outputs": [
    {
     "name": "stdout",
     "output_type": "stream",
     "text": [
      "5\n"
     ]
    }
   ],
   "source": [
    "# Count the total number of special characters in the URL\n",
    "def count_special_chars(url):\n",
    "    special_chars = [';', '!', '@', '#', '$', '%', '^', '&', '*', '(', ')', '_', '+', '-', '=', '{', '}', '[', ']', '|', '\\\\', ':', '\"', \"'\", '<', '>', ',', '.', '?', '/']\n",
    "    count = 0\n",
    "    for char in url:\n",
    "        if char in special_chars:\n",
    "            count += 1\n",
    "    return count\n",
    "\n",
    "# Example usage\n",
    "url = 'http://www.google.com'\n",
    "\n",
    "print(count_special_chars(url))"
   ]
  },
  {
   "cell_type": "code",
   "execution_count": 15,
   "id": "ab4b78d3",
   "metadata": {
    "execution": {
     "iopub.execute_input": "2024-03-20T14:03:11.933996Z",
     "iopub.status.busy": "2024-03-20T14:03:11.933609Z",
     "iopub.status.idle": "2024-03-20T14:03:14.736479Z",
     "shell.execute_reply": "2024-03-20T14:03:14.735336Z"
    },
    "papermill": {
     "duration": 2.815334,
     "end_time": "2024-03-20T14:03:14.739089",
     "exception": false,
     "start_time": "2024-03-20T14:03:11.923755",
     "status": "completed"
    },
    "tags": []
   },
   "outputs": [
    {
     "data": {
      "text/html": [
       "<div>\n",
       "<style scoped>\n",
       "    .dataframe tbody tr th:only-of-type {\n",
       "        vertical-align: middle;\n",
       "    }\n",
       "\n",
       "    .dataframe tbody tr th {\n",
       "        vertical-align: top;\n",
       "    }\n",
       "\n",
       "    .dataframe thead th {\n",
       "        text-align: right;\n",
       "    }\n",
       "</style>\n",
       "<table border=\"1\" class=\"dataframe\">\n",
       "  <thead>\n",
       "    <tr style=\"text-align: right;\">\n",
       "      <th></th>\n",
       "      <th>url</th>\n",
       "      <th>login_form</th>\n",
       "      <th>links_in_tags</th>\n",
       "      <th>iframe</th>\n",
       "      <th>popup_window</th>\n",
       "      <th>safe_anchor</th>\n",
       "      <th>onmouseover</th>\n",
       "      <th>right_clic</th>\n",
       "      <th>whois_registered_domain</th>\n",
       "      <th>domain_registration_length</th>\n",
       "      <th>...</th>\n",
       "      <th>having_ip_address</th>\n",
       "      <th>no_of_dots</th>\n",
       "      <th>lexical_features</th>\n",
       "      <th>no_of_sensitive_words</th>\n",
       "      <th>out_of_position_tld</th>\n",
       "      <th>https_token</th>\n",
       "      <th>url_length</th>\n",
       "      <th>tinyURL</th>\n",
       "      <th>prefixSuffix</th>\n",
       "      <th>count_special_chars</th>\n",
       "    </tr>\n",
       "  </thead>\n",
       "  <tbody>\n",
       "    <tr>\n",
       "      <th>0</th>\n",
       "      <td>http://www.crestonwood.com/router.php</td>\n",
       "      <td>0</td>\n",
       "      <td>80.000000</td>\n",
       "      <td>0</td>\n",
       "      <td>0</td>\n",
       "      <td>0.0</td>\n",
       "      <td>0</td>\n",
       "      <td>0</td>\n",
       "      <td>0</td>\n",
       "      <td>45</td>\n",
       "      <td>...</td>\n",
       "      <td>1</td>\n",
       "      <td>3</td>\n",
       "      <td>{'http:': 1, 'www': 1, 'crestonwood': 1, 'com'...</td>\n",
       "      <td>0</td>\n",
       "      <td>1</td>\n",
       "      <td>-1</td>\n",
       "      <td>37</td>\n",
       "      <td>-1</td>\n",
       "      <td>-1</td>\n",
       "      <td>7</td>\n",
       "    </tr>\n",
       "    <tr>\n",
       "      <th>1</th>\n",
       "      <td>http://shadetreetechnology.com/V4/validation/a...</td>\n",
       "      <td>0</td>\n",
       "      <td>100.000000</td>\n",
       "      <td>0</td>\n",
       "      <td>0</td>\n",
       "      <td>100.0</td>\n",
       "      <td>0</td>\n",
       "      <td>0</td>\n",
       "      <td>0</td>\n",
       "      <td>77</td>\n",
       "      <td>...</td>\n",
       "      <td>1</td>\n",
       "      <td>1</td>\n",
       "      <td>{'http:': 1, 'shadetreetechnology': 1, 'com': ...</td>\n",
       "      <td>0</td>\n",
       "      <td>1</td>\n",
       "      <td>-1</td>\n",
       "      <td>77</td>\n",
       "      <td>-1</td>\n",
       "      <td>-1</td>\n",
       "      <td>7</td>\n",
       "    </tr>\n",
       "    <tr>\n",
       "      <th>2</th>\n",
       "      <td>https://support-appleld.com.secureupdate.duila...</td>\n",
       "      <td>0</td>\n",
       "      <td>100.000000</td>\n",
       "      <td>0</td>\n",
       "      <td>0</td>\n",
       "      <td>100.0</td>\n",
       "      <td>0</td>\n",
       "      <td>0</td>\n",
       "      <td>0</td>\n",
       "      <td>14</td>\n",
       "      <td>...</td>\n",
       "      <td>1</td>\n",
       "      <td>4</td>\n",
       "      <td>{'https:': 1, 'support': 1, 'appleld': 1, 'com...</td>\n",
       "      <td>1</td>\n",
       "      <td>-1</td>\n",
       "      <td>1</td>\n",
       "      <td>126</td>\n",
       "      <td>-1</td>\n",
       "      <td>1</td>\n",
       "      <td>19</td>\n",
       "    </tr>\n",
       "    <tr>\n",
       "      <th>3</th>\n",
       "      <td>http://rgipt.ac.in</td>\n",
       "      <td>0</td>\n",
       "      <td>100.000000</td>\n",
       "      <td>0</td>\n",
       "      <td>0</td>\n",
       "      <td>62.5</td>\n",
       "      <td>0</td>\n",
       "      <td>0</td>\n",
       "      <td>0</td>\n",
       "      <td>62</td>\n",
       "      <td>...</td>\n",
       "      <td>1</td>\n",
       "      <td>2</td>\n",
       "      <td>{'http:': 1, 'rgipt': 1, 'ac': 1, 'in': 1}</td>\n",
       "      <td>0</td>\n",
       "      <td>1</td>\n",
       "      <td>-1</td>\n",
       "      <td>18</td>\n",
       "      <td>-1</td>\n",
       "      <td>-1</td>\n",
       "      <td>5</td>\n",
       "    </tr>\n",
       "    <tr>\n",
       "      <th>4</th>\n",
       "      <td>http://www.iracing.com/tracks/gateway-motorspo...</td>\n",
       "      <td>1</td>\n",
       "      <td>76.470588</td>\n",
       "      <td>0</td>\n",
       "      <td>0</td>\n",
       "      <td>0.0</td>\n",
       "      <td>0</td>\n",
       "      <td>0</td>\n",
       "      <td>0</td>\n",
       "      <td>224</td>\n",
       "      <td>...</td>\n",
       "      <td>1</td>\n",
       "      <td>2</td>\n",
       "      <td>{'http:': 1, 'www': 1, 'iracing': 1, 'com': 1,...</td>\n",
       "      <td>0</td>\n",
       "      <td>1</td>\n",
       "      <td>-1</td>\n",
       "      <td>55</td>\n",
       "      <td>-1</td>\n",
       "      <td>-1</td>\n",
       "      <td>10</td>\n",
       "    </tr>\n",
       "  </tbody>\n",
       "</table>\n",
       "<p>5 rows × 27 columns</p>\n",
       "</div>"
      ],
      "text/plain": [
       "                                                 url  login_form  \\\n",
       "0              http://www.crestonwood.com/router.php           0   \n",
       "1  http://shadetreetechnology.com/V4/validation/a...           0   \n",
       "2  https://support-appleld.com.secureupdate.duila...           0   \n",
       "3                                 http://rgipt.ac.in           0   \n",
       "4  http://www.iracing.com/tracks/gateway-motorspo...           1   \n",
       "\n",
       "   links_in_tags  iframe  popup_window  safe_anchor  onmouseover  right_clic  \\\n",
       "0      80.000000       0             0          0.0            0           0   \n",
       "1     100.000000       0             0        100.0            0           0   \n",
       "2     100.000000       0             0        100.0            0           0   \n",
       "3     100.000000       0             0         62.5            0           0   \n",
       "4      76.470588       0             0          0.0            0           0   \n",
       "\n",
       "   whois_registered_domain  domain_registration_length  ...  \\\n",
       "0                        0                          45  ...   \n",
       "1                        0                          77  ...   \n",
       "2                        0                          14  ...   \n",
       "3                        0                          62  ...   \n",
       "4                        0                         224  ...   \n",
       "\n",
       "   having_ip_address  no_of_dots  \\\n",
       "0                  1           3   \n",
       "1                  1           1   \n",
       "2                  1           4   \n",
       "3                  1           2   \n",
       "4                  1           2   \n",
       "\n",
       "                                    lexical_features  no_of_sensitive_words  \\\n",
       "0  {'http:': 1, 'www': 1, 'crestonwood': 1, 'com'...                      0   \n",
       "1  {'http:': 1, 'shadetreetechnology': 1, 'com': ...                      0   \n",
       "2  {'https:': 1, 'support': 1, 'appleld': 1, 'com...                      1   \n",
       "3         {'http:': 1, 'rgipt': 1, 'ac': 1, 'in': 1}                      0   \n",
       "4  {'http:': 1, 'www': 1, 'iracing': 1, 'com': 1,...                      0   \n",
       "\n",
       "   out_of_position_tld https_token  url_length  tinyURL  prefixSuffix  \\\n",
       "0                    1          -1          37       -1            -1   \n",
       "1                    1          -1          77       -1            -1   \n",
       "2                   -1           1         126       -1             1   \n",
       "3                    1          -1          18       -1            -1   \n",
       "4                    1          -1          55       -1            -1   \n",
       "\n",
       "  count_special_chars  \n",
       "0                   7  \n",
       "1                   7  \n",
       "2                  19  \n",
       "3                   5  \n",
       "4                  10  \n",
       "\n",
       "[5 rows x 27 columns]"
      ]
     },
     "execution_count": 15,
     "metadata": {},
     "output_type": "execute_result"
    }
   ],
   "source": [
    "# Apply the feature extraction functions to the URL column of the filtered data\n",
    "data.loc[:,'embedded_domain'] = data.loc[:,'url'].apply(embedded_domain)\n",
    "data.loc[:,'having_ip_address'] = data.loc[:,'url'].apply(having_ip_address)\n",
    "data.loc[:,'no_of_dots'] = data.loc[:,'url'].apply(no_of_dots)\n",
    "data.loc[:,'lexical_features'] = data.loc[:,'url'].apply(extract_lexical_features)\n",
    "data.loc[:,'no_of_sensitive_words'] = data.loc[:,'url'].apply(no_of_sensitive_words)\n",
    "data.loc[:,'out_of_position_tld'] = data.loc[:,'url'].apply(out_of_position_tld)\n",
    "data.loc[:,'https_token'] = data.loc[:,'url'].apply(https_token)\n",
    "data.loc[:,'url_length'] = data.loc[:,'url'].apply(url_length)\n",
    "data.loc[:,'tinyURL'] = data.loc[:,'url'].apply(tinyURL)\n",
    "data.loc[:,'prefixSuffix'] = data.loc[:,'url'].apply(prefixSuffix)\n",
    "data.loc[:,'count_special_chars'] = data.loc[:,'url'].apply(count_special_chars)\n",
    "\n",
    "data.head()"
   ]
  },
  {
   "cell_type": "code",
   "execution_count": 16,
   "id": "85ac6172",
   "metadata": {
    "execution": {
     "iopub.execute_input": "2024-03-20T14:03:14.758560Z",
     "iopub.status.busy": "2024-03-20T14:03:14.758133Z",
     "iopub.status.idle": "2024-03-20T14:03:24.425509Z",
     "shell.execute_reply": "2024-03-20T14:03:24.424359Z"
    },
    "papermill": {
     "duration": 9.680434,
     "end_time": "2024-03-20T14:03:24.428398",
     "exception": false,
     "start_time": "2024-03-20T14:03:14.747964",
     "status": "completed"
    },
    "tags": []
   },
   "outputs": [
    {
     "name": "stdout",
     "output_type": "stream",
     "text": [
      "login_form\n",
      "0    10703\n",
      "1      727\n",
      "Name: count, dtype: int64\n",
      "links_in_tags\n",
      "0.000000      3403\n",
      "100.000000    2851\n",
      "50.000000      453\n",
      "66.666667      345\n",
      "75.000000      195\n",
      "              ... \n",
      "68.000000        1\n",
      "16.000000        1\n",
      "48.780488        1\n",
      "13.043478        1\n",
      "91.176471        1\n",
      "Name: count, Length: 473, dtype: int64\n",
      "iframe\n",
      "0    11415\n",
      "1       15\n",
      "Name: count, dtype: int64\n",
      "popup_window\n",
      "0    11361\n",
      "1       69\n",
      "Name: count, dtype: int64\n",
      "safe_anchor\n",
      "0.000000      4438\n",
      "100.000000    1732\n",
      "50.000000      337\n",
      "25.000000      319\n",
      "14.285714      225\n",
      "              ... \n",
      "32.142857        1\n",
      "75.806452        1\n",
      "87.272727        1\n",
      "11.956522        1\n",
      "17.500000        1\n",
      "Name: count, Length: 1083, dtype: int64\n",
      "onmouseover\n",
      "0    11417\n",
      "1       13\n",
      "Name: count, dtype: int64\n",
      "right_clic\n",
      "0    11414\n",
      "1       16\n",
      "Name: count, dtype: int64\n",
      "whois_registered_domain\n",
      "0    10597\n",
      "1      833\n",
      "Name: count, dtype: int64\n",
      "domain_registration_length\n",
      "0       1404\n",
      "25       270\n",
      "374      208\n",
      "228      117\n",
      "217       89\n",
      "        ... \n",
      "1976       1\n",
      "2370       1\n",
      "3076       1\n",
      "1825       1\n",
      "977        1\n",
      "Name: count, Length: 1659, dtype: int64\n",
      "domain_age\n",
      "-1       1781\n",
      " 7295     197\n",
      " 3993     156\n",
      " 3992     117\n",
      " 5616      73\n",
      "         ... \n",
      " 5076       1\n",
      " 5661       1\n",
      " 2466       1\n",
      " 1614       1\n",
      " 6728       1\n",
      "Name: count, Length: 4430, dtype: int64\n",
      "web_traffic\n",
      "0          4444\n",
      "5707171     176\n",
      "12          163\n",
      "1           148\n",
      "5697976      91\n",
      "           ... \n",
      "1490065       1\n",
      "2299843       1\n",
      "1191539       1\n",
      "227305        1\n",
      "2455493       1\n",
      "Name: count, Length: 4744, dtype: int64\n",
      "dns_record\n",
      "0    11200\n",
      "1      230\n",
      "Name: count, dtype: int64\n",
      "google_index\n",
      "1    6103\n",
      "0    5327\n",
      "Name: count, dtype: int64\n",
      "page_rank\n",
      "0     2666\n",
      "5     2057\n",
      "2     1553\n",
      "4     1380\n",
      "3     1232\n",
      "1      735\n",
      "6      727\n",
      "7      509\n",
      "10     269\n",
      "8      262\n",
      "9       40\n",
      "Name: count, dtype: int64\n",
      "status\n",
      "legitimate    5715\n",
      "phishing      5715\n",
      "Name: count, dtype: int64\n",
      "embedded_domain\n",
      " 1    5962\n",
      "-1    5468\n",
      "Name: count, dtype: int64\n",
      "having_ip_address\n",
      " 1    11326\n",
      "-1      104\n",
      "Name: count, dtype: int64\n",
      "no_of_dots\n",
      "2     6179\n",
      "3     2430\n",
      "1     1302\n",
      "4      952\n",
      "5      365\n",
      "6       80\n",
      "7       49\n",
      "8       21\n",
      "14      10\n",
      "24       8\n",
      "13       7\n",
      "9        7\n",
      "10       5\n",
      "15       5\n",
      "16       4\n",
      "12       2\n",
      "22       2\n",
      "19       1\n",
      "18       1\n",
      "Name: count, dtype: int64\n",
      "lexical_features\n",
      "{'http:': 1, '153284594738391': 1, 'statictab': 1, 'com': 1, '2506080': 1}                                                                                                                                                                                                                                                                                                                                                                                                                                                     3\n",
      "{'http:': 1, 'anjoe': 1, 'com': 1, 'js': 1, 'www': 1, 'loginalibaba': 1, 'alibaba': 1}                                                                                                                                                                                                                                                                                                                                                                                                                                         3\n",
      "{'http:': 1, 'secureupdate': 1, 'appleld': 1, 'com': 1, 'duilawyeryork': 1, 'ap': 1, '8f9cf5e3c75912b': 1, 'cmd': 1, '_update': 1, 'dispatch': 1, '8f9cf5e3c75912bfc': 1, 'locale': 1, '_US': 1}                                                                                                                                                                                                                                                                                                                               2\n",
      "{'https:': 1, 'support': 1, 'appleld': 1, 'com': 1, 'secureupdate': 1, 'duilawyeryork': 1, 'ap': 1, '307a0fd70046066': 1, 'cmd': 1, '_update': 1, 'dispatch': 1, '307a0fd700460661f': 1, 'locale': 1, '_US': 1}                                                                                                                                                                                                                                                                                                                2\n",
      "{'http:': 1, 'nothingelsefilm': 1, 'com': 1, 'wp': 1, 'content': 1, 'themes': 1, 'widescreen': 1, 'includes': 1, 'temp': 1, 'ski': 1}                                                                                                                                                                                                                                                                                                                                                                                          2\n",
      "                                                                                                                                                                                                                                                                                                                                                                                                                                                                                                                              ..\n",
      "{'http:': 1, 'www': 1, 'whereleb': 1, 'com': 1}                                                                                                                                                                                                                                                                                                                                                                                                                                                                                1\n",
      "{'http:': 1, 'actualiza': 1, 'banruralgt': 1, 'com': 1}                                                                                                                                                                                                                                                                                                                                                                                                                                                                        1\n",
      "{'https:': 1, 'www': 1, 'netcologne': 1, 'de': 1}                                                                                                                                                                                                                                                                                                                                                                                                                                                                              1\n",
      "{'http:': 1, 'smndazi': 1, '000webhostapp': 1, 'com': 1, 'englishhss': 1, 'crypt': 1, 'connect': 1, 'html': 1}                                                                                                                                                                                                                                                                                                                                                                                                                 1\n",
      "{'http:': 1, '174': 1, '139': 1, '46': 1, '123': 1, 'ap': 1, 'signin': 1, 'openid': 1, 'pape': 1, 'max_auth_age': 1, '0': 1, 'amp;openid': 1, 'return_to': 1, 'https%3A%2F%2Fwww': 1, 'amazon': 1, 'co': 1, 'jp%2F%3Fref_%3Dnav_em_hd_re_signin': 1, 'identity': 1, 'http%3A%2F%2Fspecs': 1, 'net%2Fauth%2F2': 1, '0%2Fidentifier_select': 1, 'assoc_handle': 1, 'jpflex': 1, 'mode': 1, 'checkid_setup': 1, 'amp;key': 1, 'a@b': 1, 'c': 1, 'claimed_id': 1, 'ns': 1, 'amp;': 1, 'amp;ref_': 1, 'nav_em_hd_clc_signin': 1}    1\n",
      "Name: count, Length: 11184, dtype: int64\n",
      "no_of_sensitive_words\n",
      "0    10281\n",
      "1     1021\n",
      "2      116\n",
      "3       11\n",
      "4        1\n",
      "Name: count, dtype: int64\n",
      "out_of_position_tld\n",
      " 1    10476\n",
      "-1      954\n",
      "Name: count, dtype: int64\n",
      "https_token\n",
      "-1    6983\n",
      " 1    4447\n",
      "Name: count, dtype: int64\n",
      "url_length\n",
      "32     251\n",
      "26     251\n",
      "29     250\n",
      "33     231\n",
      "27     230\n",
      "      ... \n",
      "611      1\n",
      "464      1\n",
      "289      1\n",
      "250      1\n",
      "477      1\n",
      "Name: count, Length: 323, dtype: int64\n",
      "tinyURL\n",
      "-1    10019\n",
      " 1     1411\n",
      "Name: count, dtype: int64\n",
      "prefixSuffix\n",
      "-1    9686\n",
      " 1    1744\n",
      "Name: count, dtype: int64\n",
      "count_special_chars\n",
      "6      2255\n",
      "7      1475\n",
      "8      1201\n",
      "9      1150\n",
      "10      937\n",
      "       ... \n",
      "48        1\n",
      "84        1\n",
      "46        1\n",
      "66        1\n",
      "113       1\n",
      "Name: count, Length: 63, dtype: int64\n"
     ]
    }
   ],
   "source": [
    "# print the value counts of each feature\n",
    "for col in data.columns[1:]:\n",
    "    print(data[col].value_counts())"
   ]
  },
  {
   "cell_type": "code",
   "execution_count": 17,
   "id": "d45b66b4",
   "metadata": {
    "execution": {
     "iopub.execute_input": "2024-03-20T14:03:24.450142Z",
     "iopub.status.busy": "2024-03-20T14:03:24.449736Z",
     "iopub.status.idle": "2024-03-20T14:03:24.731193Z",
     "shell.execute_reply": "2024-03-20T14:03:24.730067Z"
    },
    "papermill": {
     "duration": 0.295788,
     "end_time": "2024-03-20T14:03:24.733977",
     "exception": false,
     "start_time": "2024-03-20T14:03:24.438189",
     "status": "completed"
    },
    "tags": []
   },
   "outputs": [],
   "source": [
    "# save the data to a new csv file named 'Data_processed.csv'\n",
    "data.to_csv('/kaggle/working/Data_processed.csv', index=False)"
   ]
  }
 ],
 "metadata": {
  "kaggle": {
   "accelerator": "none",
   "dataSources": [
    {
     "datasetId": 2170282,
     "sourceId": 3622141,
     "sourceType": "datasetVersion"
    }
   ],
   "dockerImageVersionId": 30664,
   "isGpuEnabled": false,
   "isInternetEnabled": true,
   "language": "python",
   "sourceType": "notebook"
  },
  "kernelspec": {
   "display_name": "Python 3",
   "language": "python",
   "name": "python3"
  },
  "language_info": {
   "codemirror_mode": {
    "name": "ipython",
    "version": 3
   },
   "file_extension": ".py",
   "mimetype": "text/x-python",
   "name": "python",
   "nbconvert_exporter": "python",
   "pygments_lexer": "ipython3",
   "version": "3.10.13"
  },
  "papermill": {
   "default_parameters": {},
   "duration": 18.564119,
   "end_time": "2024-03-20T14:03:25.265597",
   "environment_variables": {},
   "exception": null,
   "input_path": "__notebook__.ipynb",
   "output_path": "__notebook__.ipynb",
   "parameters": {},
   "start_time": "2024-03-20T14:03:06.701478",
   "version": "2.5.0"
  }
 },
 "nbformat": 4,
 "nbformat_minor": 5
}
