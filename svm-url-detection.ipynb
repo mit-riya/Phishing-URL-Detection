{
 "cells": [
  {
   "cell_type": "markdown",
   "metadata": {
    "papermill": {
     "duration": 0.047718,
     "end_time": "2024-04-18T13:37:51.518752",
     "exception": false,
     "start_time": "2024-04-18T13:37:51.471034",
     "status": "completed"
    },
    "tags": []
   },
   "source": [
    "## Import required libraries"
   ]
  },
  {
   "cell_type": "code",
   "execution_count": 1,
   "metadata": {
    "_cell_guid": "b1076dfc-b9ad-4769-8c92-a6c4dae69d19",
    "_uuid": "8f2839f25d086af736a60e9eeb907d3b93b6e0e5",
    "execution": {
     "iopub.execute_input": "2024-04-18T13:37:51.620155Z",
     "iopub.status.busy": "2024-04-18T13:37:51.619179Z",
     "iopub.status.idle": "2024-04-18T13:37:52.578334Z",
     "shell.execute_reply": "2024-04-18T13:37:52.577270Z",
     "shell.execute_reply.started": "2024-04-18T08:25:04.382676Z"
    },
    "jupyter": {
     "source_hidden": true
    },
    "papermill": {
     "duration": 1.012014,
     "end_time": "2024-04-18T13:37:52.578647",
     "exception": false,
     "start_time": "2024-04-18T13:37:51.566633",
     "status": "completed"
    },
    "tags": []
   },
   "outputs": [],
   "source": [
    "import numpy as np\n",
    "import pandas as pd\n",
    "import os\n",
    "import random\n",
    "from sklearn.preprocessing import StandardScaler\n",
    "from sklearn.metrics import roc_auc_score, roc_curve, accuracy_score\n",
    "import matplotlib.pyplot as plt\n",
    "from sklearn.svm import SVC\n",
    "from sklearn.model_selection import train_test_split"
   ]
  },
  {
   "cell_type": "code",
   "execution_count": 2,
   "metadata": {
    "execution": {
     "iopub.execute_input": "2024-04-18T13:37:52.680851Z",
     "iopub.status.busy": "2024-04-18T13:37:52.680082Z",
     "iopub.status.idle": "2024-04-18T13:37:52.814283Z",
     "shell.execute_reply": "2024-04-18T13:37:52.813635Z",
     "shell.execute_reply.started": "2024-04-18T08:25:06.919175Z"
    },
    "papermill": {
     "duration": 0.187389,
     "end_time": "2024-04-18T13:37:52.814462",
     "exception": false,
     "start_time": "2024-04-18T13:37:52.627073",
     "status": "completed"
    },
    "tags": []
   },
   "outputs": [
    {
     "name": "stdout",
     "output_type": "stream",
     "text": [
      "Files in the dataset folder: ['Data_processed.csv']\n"
     ]
    }
   ],
   "source": [
    "dataset_path = '/kaggle/input/phishing-url'\n",
    "dataset_files = os.listdir(dataset_path)\n",
    "print(\"Files in the dataset folder:\", dataset_files)\n",
    "\n",
    "csv_file_path = os.path.join(dataset_path, dataset_files[0])   # Replace 'example.csv' with your file name\n",
    "df = pd.read_csv(csv_file_path)"
   ]
  },
  {
   "cell_type": "code",
   "execution_count": 3,
   "metadata": {
    "execution": {
     "iopub.execute_input": "2024-04-18T13:37:52.924739Z",
     "iopub.status.busy": "2024-04-18T13:37:52.923704Z",
     "iopub.status.idle": "2024-04-18T13:37:52.953069Z",
     "shell.execute_reply": "2024-04-18T13:37:52.954006Z",
     "shell.execute_reply.started": "2024-04-18T08:25:07.871655Z"
    },
    "papermill": {
     "duration": 0.091448,
     "end_time": "2024-04-18T13:37:52.954344",
     "exception": false,
     "start_time": "2024-04-18T13:37:52.862896",
     "status": "completed"
    },
    "tags": []
   },
   "outputs": [
    {
     "data": {
      "text/plain": [
       "url                            object\n",
       "login_form                      int64\n",
       "links_in_tags                 float64\n",
       "submit_email                    int64\n",
       "sfh                             int64\n",
       "iframe                          int64\n",
       "popup_window                    int64\n",
       "safe_anchor                   float64\n",
       "onmouseover                     int64\n",
       "right_clic                      int64\n",
       "whois_registered_domain         int64\n",
       "domain_registration_length      int64\n",
       "domain_age                      int64\n",
       "web_traffic                     int64\n",
       "dns_record                      int64\n",
       "google_index                    int64\n",
       "page_rank                       int64\n",
       "status                         object\n",
       "embedded_domain                 int64\n",
       "having_ip_address               int64\n",
       "no_of_dots                      int64\n",
       "lexical_features               object\n",
       "no_of_sensitive_words           int64\n",
       "out_of_position_tld             int64\n",
       "https_token                     int64\n",
       "url_length                      int64\n",
       "tinyURL                         int64\n",
       "prefixSuffix                    int64\n",
       "dtype: object"
      ]
     },
     "execution_count": 3,
     "metadata": {},
     "output_type": "execute_result"
    }
   ],
   "source": [
    "df.dtypes"
   ]
  },
  {
   "cell_type": "markdown",
   "metadata": {
    "papermill": {
     "duration": 0.047277,
     "end_time": "2024-04-18T13:37:53.067113",
     "exception": false,
     "start_time": "2024-04-18T13:37:53.019836",
     "status": "completed"
    },
    "tags": []
   },
   "source": [
    "## Remove columns with non-integer data types"
   ]
  },
  {
   "cell_type": "code",
   "execution_count": 4,
   "metadata": {
    "execution": {
     "iopub.execute_input": "2024-04-18T13:37:53.166017Z",
     "iopub.status.busy": "2024-04-18T13:37:53.164876Z",
     "iopub.status.idle": "2024-04-18T13:37:53.173659Z",
     "shell.execute_reply": "2024-04-18T13:37:53.174291Z",
     "shell.execute_reply.started": "2024-04-18T08:25:08.822929Z"
    },
    "papermill": {
     "duration": 0.060132,
     "end_time": "2024-04-18T13:37:53.174510",
     "exception": false,
     "start_time": "2024-04-18T13:37:53.114378",
     "status": "completed"
    },
    "tags": []
   },
   "outputs": [],
   "source": [
    "df.drop(columns=['url','lexical_features','submit_email','sfh'], inplace=True)"
   ]
  },
  {
   "cell_type": "code",
   "execution_count": 5,
   "metadata": {
    "execution": {
     "iopub.execute_input": "2024-04-18T13:37:53.273520Z",
     "iopub.status.busy": "2024-04-18T13:37:53.272417Z",
     "iopub.status.idle": "2024-04-18T13:37:53.278984Z",
     "shell.execute_reply": "2024-04-18T13:37:53.279589Z",
     "shell.execute_reply.started": "2024-04-18T08:25:09.322834Z"
    },
    "papermill": {
     "duration": 0.058188,
     "end_time": "2024-04-18T13:37:53.279786",
     "exception": false,
     "start_time": "2024-04-18T13:37:53.221598",
     "status": "completed"
    },
    "tags": []
   },
   "outputs": [
    {
     "data": {
      "text/plain": [
       "Index(['login_form', 'links_in_tags', 'iframe', 'popup_window', 'safe_anchor',\n",
       "       'onmouseover', 'right_clic', 'whois_registered_domain',\n",
       "       'domain_registration_length', 'domain_age', 'web_traffic', 'dns_record',\n",
       "       'google_index', 'page_rank', 'status', 'embedded_domain',\n",
       "       'having_ip_address', 'no_of_dots', 'no_of_sensitive_words',\n",
       "       'out_of_position_tld', 'https_token', 'url_length', 'tinyURL',\n",
       "       'prefixSuffix'],\n",
       "      dtype='object')"
      ]
     },
     "execution_count": 5,
     "metadata": {},
     "output_type": "execute_result"
    }
   ],
   "source": [
    "df.columns"
   ]
  },
  {
   "cell_type": "markdown",
   "metadata": {
    "papermill": {
     "duration": 0.047454,
     "end_time": "2024-04-18T13:37:53.375539",
     "exception": false,
     "start_time": "2024-04-18T13:37:53.328085",
     "status": "completed"
    },
    "tags": []
   },
   "source": [
    "## Standardization of data"
   ]
  },
  {
   "cell_type": "code",
   "execution_count": 6,
   "metadata": {
    "execution": {
     "iopub.execute_input": "2024-04-18T13:37:53.474960Z",
     "iopub.status.busy": "2024-04-18T13:37:53.473857Z",
     "iopub.status.idle": "2024-04-18T13:37:53.593486Z",
     "shell.execute_reply": "2024-04-18T13:37:53.592843Z",
     "shell.execute_reply.started": "2024-04-18T08:25:10.480534Z"
    },
    "papermill": {
     "duration": 0.170466,
     "end_time": "2024-04-18T13:37:53.593679",
     "exception": false,
     "start_time": "2024-04-18T13:37:53.423213",
     "status": "completed"
    },
    "tags": []
   },
   "outputs": [],
   "source": [
    "scaler = StandardScaler()\n",
    "# Select columns to standardize\n",
    "columns_to_standardize = df.columns.tolist()\n",
    "columns_to_standardize.remove('status')\n",
    "\n",
    "# Initialize StandardScaler\n",
    "# scaler = StandardScaler()\n",
    "\n",
    "# Fit and transform the selected columns\n",
    "df[columns_to_standardize] = scaler.fit_transform(df[columns_to_standardize])"
   ]
  },
  {
   "cell_type": "markdown",
   "metadata": {
    "papermill": {
     "duration": 0.047423,
     "end_time": "2024-04-18T13:37:53.689153",
     "exception": false,
     "start_time": "2024-04-18T13:37:53.641730",
     "status": "completed"
    },
    "tags": []
   },
   "source": [
    "## Train-test Split"
   ]
  },
  {
   "cell_type": "code",
   "execution_count": 7,
   "metadata": {
    "execution": {
     "iopub.execute_input": "2024-04-18T13:37:53.796855Z",
     "iopub.status.busy": "2024-04-18T13:37:53.795759Z",
     "iopub.status.idle": "2024-04-18T13:37:53.808835Z",
     "shell.execute_reply": "2024-04-18T13:37:53.809400Z",
     "shell.execute_reply.started": "2024-04-18T08:25:11.699501Z"
    },
    "papermill": {
     "duration": 0.072379,
     "end_time": "2024-04-18T13:37:53.809639",
     "exception": false,
     "start_time": "2024-04-18T13:37:53.737260",
     "status": "completed"
    },
    "tags": []
   },
   "outputs": [],
   "source": [
    "df['target'] = np.where(df['status'] == 'phishing', 1, -1)\n",
    "df.drop(columns=['status'], inplace=True)\n",
    "Y=df['target']\n",
    "X = df.drop(columns=['target'])"
   ]
  },
  {
   "cell_type": "code",
   "execution_count": 8,
   "metadata": {
    "execution": {
     "iopub.execute_input": "2024-04-18T13:37:53.918093Z",
     "iopub.status.busy": "2024-04-18T13:37:53.917325Z",
     "iopub.status.idle": "2024-04-18T13:37:53.925063Z",
     "shell.execute_reply": "2024-04-18T13:37:53.924435Z",
     "shell.execute_reply.started": "2024-04-18T08:25:12.455536Z"
    },
    "papermill": {
     "duration": 0.067941,
     "end_time": "2024-04-18T13:37:53.925234",
     "exception": false,
     "start_time": "2024-04-18T13:37:53.857293",
     "status": "completed"
    },
    "tags": []
   },
   "outputs": [],
   "source": [
    "X_train, X_test, y_train, y_test = train_test_split(X, Y, test_size=0.2,random_state=0) # creating testing and training set"
   ]
  },
  {
   "cell_type": "markdown",
   "metadata": {
    "papermill": {
     "duration": 0.048606,
     "end_time": "2024-04-18T13:37:54.022200",
     "exception": false,
     "start_time": "2024-04-18T13:37:53.973594",
     "status": "completed"
    },
    "tags": []
   },
   "source": [
    "## Defining evaluation metrics"
   ]
  },
  {
   "cell_type": "code",
   "execution_count": 9,
   "metadata": {
    "execution": {
     "iopub.execute_input": "2024-04-18T13:37:54.129629Z",
     "iopub.status.busy": "2024-04-18T13:37:54.128466Z",
     "iopub.status.idle": "2024-04-18T13:37:54.138035Z",
     "shell.execute_reply": "2024-04-18T13:37:54.137344Z",
     "shell.execute_reply.started": "2024-04-18T08:41:49.586548Z"
    },
    "papermill": {
     "duration": 0.066009,
     "end_time": "2024-04-18T13:37:54.138213",
     "exception": false,
     "start_time": "2024-04-18T13:37:54.072204",
     "status": "completed"
    },
    "tags": []
   },
   "outputs": [],
   "source": [
    "def confusion_matrix(actual, predicted):\n",
    "    if not isinstance(predicted, np.ndarray):\n",
    "        predicted=np.array(predicted)\n",
    "    matrix = np.zeros((2,2))\n",
    "    n_samples = actual.shape[0]\n",
    "    for i in range(n_samples):\n",
    "        if actual.iloc[i] == predicted[i] and actual.iloc[i] == 1:\n",
    "            matrix[0,0] += 1  # True Positive\n",
    "        elif actual.iloc[i] == predicted[i]:\n",
    "            matrix[1,1] += 1  # True Negative\n",
    "        elif predicted[i] == 1:\n",
    "            matrix[0,1] += 1  # False Positive\n",
    "        else:\n",
    "            matrix[1,0] += 1  # False Negative\n",
    "    \n",
    "    # Calculate precision, recall, and F1 score\n",
    "    precision = matrix[0,0] / (matrix[0,0] + matrix[0,1]) if (matrix[0,0] + matrix[0,1]) > 0 else 0\n",
    "    recall = matrix[0,0] / (matrix[0,0] + matrix[1,0]) if (matrix[0,0] + matrix[1,0]) > 0 else 0\n",
    "    f1_score = 2 * (precision * recall) / (precision + recall) if (precision + recall) > 0 else 0\n",
    "    accuracy = np.sum(np.diag(matrix)) / np.sum(matrix) \n",
    "\n",
    "    labels = ['Actual Positive', 'Actual Negative']\n",
    "    print(\"\\t\\tPredicted Positive\\tPredicted Negative\")\n",
    "    for i, row_label in enumerate(labels):\n",
    "        print(f\"{row_label}\\t\\t{int(matrix[i,0])}\\t\\t\\t{int(matrix[i,1])}\")\n",
    "\n",
    "    # Print precision, recall, and F1 score\n",
    "    print(\"\\nPrecision:\", precision)\n",
    "    print(\"Recall:\", recall)\n",
    "    print(\"F1 Score:\", f1_score)\n",
    "    print(\"Accuracy:\", accuracy)\n",
    "\n"
   ]
  },
  {
   "cell_type": "markdown",
   "metadata": {
    "papermill": {
     "duration": 0.047107,
     "end_time": "2024-04-18T13:37:54.233379",
     "exception": false,
     "start_time": "2024-04-18T13:37:54.186272",
     "status": "completed"
    },
    "tags": []
   },
   "source": [
    "<hr>\n",
    "<center><h1> Creating SVM models </h1></center>\n",
    "\n",
    "\n",
    "<hr>\n",
    "<center><h1> Linear SVM: Hard Margin Classifier\n",
    "</h1></center>\n",
    "\n",
    "For n-dimensional feature space, SVM creates an n-1 dimensional hyperplane to seprate the classes.\n",
    "Any hyperplane can be represented as:\n",
    "\n",
    "$$\n",
    "w^T X - b = 0\n",
    "$$\n",
    "\n",
    "\n",
    "![](https://adeveloperdiary.com/assets/img/Support-Vector-Machine-for-Beginners-Hard-Margin-Classifier-adeveloperdiary.com_.jpg)\n",
    "\n",
    "If the dataset can be linearly sperated, we can create two parallel hyperplane(lines here) for each classes and contain each data points under these hyperplanes and our goal would be to maximize the distance between these two parallel hyperplane. The region between these two plane is called **margin**. The equations for both hyperplane is:\n",
    "\n",
    "$$\n",
    "w^T X - b = -1\n",
    "$$\n",
    "$$\n",
    "w^T X - b = 1\n",
    "$$\n",
    "\n",
    "The distance between them is 2/||w|| and to maximize the distance, ||w|| should be minimum. \n",
    "\n",
    "To prevent any data point falling inside margin we add the restriction,\n",
    "\n",
    "$$\n",
    "y_i(w^T X_i - b) \\geq 1\n",
    "$$\n",
    "\n",
    "where y<sub>i</sub> = ith row in y\n",
    "and X<sub>i</sub> = ith row in X\n",
    "\n",
    "<div align=\"center\">\n",
    "\n",
    "### Objective Function:\n",
    "$$\n",
    "\\min_{w} \\left( \\frac{||w||^2}{2} \\right)\n",
    "$$\n",
    "\n",
    "### Linear Constraint:\n",
    "$$\n",
    "y_i (w^T x_i - b) \\geq 1\n",
    "$$\n",
    "\n",
    "</div>\n",
    "\n",
    "<hr>\n",
    "<center><h1> Linear SVM: Soft Margin Classifier\n",
    "</h1></center>\n",
    "\n",
    "\n",
    "![](https://adeveloperdiary.com/assets/img/Support-Vector-Machine-for-Beginners-Hard-Margin-Classifier-adeveloperdiary.com-1-.jpg)\n",
    "\n",
    "We have assumed that the dataset is perfectly linearly separable, which doesn’t really happen in real scenario. Some of the classes overlap such way that a perfect separation is impossible. Thera are mainly two possibilities:\n",
    "1) Single outlier can push the decision boundary greatly, so that the margin becomes very narrow.\n",
    "\n",
    "2) Even though a linear decision boundary can classify the target classes properly, the data may not be separable using a straight line.\n",
    "\n",
    "### Slack Variable\n",
    "\n",
    "We can solve this problem by introducing a new variable named Slack Variable and then redefine our inequality constraint as,\n",
    "\n",
    "$$\n",
    "y_i(w^T X_i - b) \\geq 1 - \\xi_i\n",
    "$$\n",
    "\n",
    "\n",
    "where ξ<sub>i</sub> is the slack variable for the point X<sub>i.\n",
    "\n",
    "<div align=\"center\">\n",
    "\n",
    "### Objective Function:\n",
    "$$\n",
    "\\min_{w, b, \\xi_i} \\left( \\frac{||w||^2}{2} + C\\sum_{i=1}^{n} \\xi_i \\right)\n",
    "$$\n",
    "\n",
    "### Linear Constraint:\n",
    "$$\n",
    "y_i (w^T x_i - b) \\geq 1 - \\xi_i, \\quad \\text{where} \\quad \\xi_i \\geq 0\n",
    "$$\n",
    "\n",
    "</div>\n",
    "\n",
    "C and k are constants which balance the cost of misclassification. C is a hyperparameter which controls the trade-off between maximizing the margin and minimizing the loss.\n",
    "    \n",
    "We can’t use Gradient Descent to optimize the Soft Margin Objective Function due to the inequality constraint. Hence need to first find a way to change the constraint to equality constraint.\n",
    "    \n",
    "So, we use hinge loss for loss function: <br>\n",
    "$$\n",
    "\\xi_i = \\max(0, 1 - y_i (w^T x_i - b))\n",
    "$$\n",
    "\n",
    "If the datapoint has class = 1, then the loss will be 0, otherwise it will be the distance between the margin and the datapoint.\n",
    "    \n",
    "![](https://i2.wp.com/www.adeveloperdiary.com/wp-content/uploads/2020/04/Support-Vector-Machine-for-Beginners-Hard-Margin-Classifier-adeveloperdiary.com-13.jpg?resize=420%2C338&ssl=1)\n",
    "\n",
    "and our goal is to minimize\n",
    "\n",
    "$$\n",
    "L = ||w||^2 + C \\sum_{i=1} \\max(0, 1 - y_i (\\beta^T x_i - b))\n",
    "$$\n",
    " OR   \n",
    "$$\n",
    "L = \\lambda ||w||^2 + \\sum_{i=1} \\max(0, 1 - y_i (\\beta^T x_i - b))\n",
    "$$\n",
    "\n",
    "\n",
    "### Updating weights\n",
    "\n",
    "In order to find the minima, we need to take derivative w.r.t w and b and then use them in Gradient Descent formula\n",
    "\n",
    "<span style=\"background-color:transparent\">Case 1: y<sub>i</sub>(w<sup>T</sup>X<sub>i</sub> -b) ≥ 1</span>\n",
    "$$\n",
    "    dw = 2\\lambda w\n",
    "$$\n",
    "    $$\n",
    "    db = 0\n",
    "    $$\n",
    "\n",
    "<span style=\"background-color:transparent\">Case 2:y<sub>i</sub>(w<sup>T</sup>X<sub>i</sub> -b) < 1\n",
    "</span>\n",
    "$$\n",
    "    dw = 2\\lambda w - y_i x_i\n",
    "$$\n",
    "    $$\n",
    "    db = y_i\n",
    "    $$"
   ]
  },
  {
   "cell_type": "code",
   "execution_count": 10,
   "metadata": {
    "execution": {
     "iopub.execute_input": "2024-04-18T13:37:54.345834Z",
     "iopub.status.busy": "2024-04-18T13:37:54.344705Z",
     "iopub.status.idle": "2024-04-18T13:37:54.357620Z",
     "shell.execute_reply": "2024-04-18T13:37:54.358249Z",
     "shell.execute_reply.started": "2024-04-18T08:25:14.907290Z"
    },
    "papermill": {
     "duration": 0.076668,
     "end_time": "2024-04-18T13:37:54.358464",
     "exception": false,
     "start_time": "2024-04-18T13:37:54.281796",
     "status": "completed"
    },
    "tags": []
   },
   "outputs": [],
   "source": [
    "class SVM_soft_margin:\n",
    "\n",
    "    def __init__(self, alpha = 0.001, lambda_ = 0.01, n_iterations = 500):\n",
    "        self.alpha = alpha # learning rate\n",
    "        self.lambda_ = lambda_ # tradeoff\n",
    "        self.n_iterations = n_iterations # number of iterations\n",
    "        self.w = None # weights or slopes\n",
    "        self.b = None # intercept\n",
    "\n",
    "\n",
    "    def fit(self, X, y):\n",
    "        \n",
    "        n_samples, n_features = X.shape       \n",
    "        self.w = np.zeros(n_features) # initalizing with 0\n",
    "        self.b = 0 # initialize with 0\n",
    "        \n",
    "        for iteration in range(self.n_iterations):\n",
    "            for i, Xi in X.iterrows():\n",
    "                # yi(xiw-b)≥1\n",
    "                if y[i] * (np.dot(Xi, self.w) - self.b) >= 1 : \n",
    "                    self.w -= self.alpha * (2 * self.lambda_ * self.w) # w = w + α* (2λw)\n",
    "                else:\n",
    "                    self.w -= self.alpha * (2 * self.lambda_ * self.w - np.dot(Xi, y[i])) # w = w + α* (2λw - yixi)\n",
    "                    self.b -= self.alpha * y[i] # b = b - α* (yi)\n",
    "        return self.w, self.b\n",
    "\n",
    "\n",
    "    def predict(self, X):\n",
    "        pred = np.dot(X, self.w) - self.b \n",
    "        result = [1 if val > 0 else -1 for val in pred] # returning in the form of -1 and 1\n",
    "        return result"
   ]
  },
  {
   "cell_type": "code",
   "execution_count": 11,
   "metadata": {
    "execution": {
     "iopub.execute_input": "2024-04-18T13:37:54.461170Z",
     "iopub.status.busy": "2024-04-18T13:37:54.460033Z",
     "iopub.status.idle": "2024-04-18T13:48:55.307250Z",
     "shell.execute_reply": "2024-04-18T13:48:55.306463Z",
     "shell.execute_reply.started": "2024-04-18T08:25:15.520903Z"
    },
    "papermill": {
     "duration": 660.898837,
     "end_time": "2024-04-18T13:48:55.307484",
     "exception": false,
     "start_time": "2024-04-18T13:37:54.408647",
     "status": "completed"
    },
    "tags": []
   },
   "outputs": [],
   "source": [
    "svm = SVM_soft_margin()   # Initialize svm classifier\n",
    "w,b = svm.fit(X_train,y_train)   # training\n",
    "y_pred = svm.predict(X_test)    # prediction"
   ]
  },
  {
   "cell_type": "code",
   "execution_count": 12,
   "metadata": {
    "execution": {
     "iopub.execute_input": "2024-04-18T13:48:55.438193Z",
     "iopub.status.busy": "2024-04-18T13:48:55.433031Z",
     "iopub.status.idle": "2024-04-18T13:48:55.493048Z",
     "shell.execute_reply": "2024-04-18T13:48:55.492172Z",
     "shell.execute_reply.started": "2024-04-18T08:41:53.605101Z"
    },
    "papermill": {
     "duration": 0.133643,
     "end_time": "2024-04-18T13:48:55.493232",
     "exception": false,
     "start_time": "2024-04-18T13:48:55.359589",
     "status": "completed"
    },
    "tags": []
   },
   "outputs": [
    {
     "name": "stdout",
     "output_type": "stream",
     "text": [
      "\t\tPredicted Positive\tPredicted Negative\n",
      "Actual Positive\t\t1024\t\t\t173\n",
      "Actual Negative\t\t107\t\t\t982\n",
      "\n",
      "Precision: 0.8554720133667502\n",
      "Recall: 0.905393457117595\n",
      "F1 Score: 0.8797250859106529\n",
      "Accuracy: 0.8775153105861767\n"
     ]
    }
   ],
   "source": [
    "confusion_matrix(y_test, y_pred)"
   ]
  },
  {
   "cell_type": "markdown",
   "metadata": {
    "papermill": {
     "duration": 0.049523,
     "end_time": "2024-04-18T13:48:55.593307",
     "exception": false,
     "start_time": "2024-04-18T13:48:55.543784",
     "status": "completed"
    },
    "tags": []
   },
   "source": [
    "<hr>\n",
    "<br><br>\n",
    "<center><h2> SVM using PEGASOS and Stochastic Gradient Descent </h2></center>"
   ]
  },
  {
   "cell_type": "markdown",
   "metadata": {
    "papermill": {
     "duration": 0.049489,
     "end_time": "2024-04-18T13:48:55.693227",
     "exception": false,
     "start_time": "2024-04-18T13:48:55.643738",
     "status": "completed"
    },
    "tags": []
   },
   "source": [
    "![j](https://miro.medium.com/max/700/1*R1GhsOV0UuMbnTwx8A47Zw.jpeg)"
   ]
  },
  {
   "cell_type": "markdown",
   "metadata": {
    "papermill": {
     "duration": 0.04916,
     "end_time": "2024-04-18T13:48:55.791545",
     "exception": false,
     "start_time": "2024-04-18T13:48:55.742385",
     "status": "completed"
    },
    "tags": []
   },
   "source": [
    "The above equation shows Pegasos algorithm, which is used with Stochastic Gradient Descent. We use Pegasos algorithm with stochastic gradient descent for faster convergence.\n",
    "For implementing Stochastic Gradient Descent, we will append one more feature containing 1 to X and we will remove b. Thus, our equation <br>\n",
    "\n",
    "y = w<sub>1</sub>X<sub>1</sub> + w<sub>2</sub>X<sub>2</sub> - b <br>\n",
    "\n",
    "will change to<br>\n",
    "\n",
    "y = w<sub>0</sub>X<sub>0</sub> + w<sub>1</sub>X<sub>1</sub> + w<sub>2</sub>X<sub>2</sub> <br>\n",
    "\n",
    "but as x<sub>0</sub> = 1, thus w<sub>0</sub> = -b\n",
    "\n",
    "<br>"
   ]
  },
  {
   "cell_type": "code",
   "execution_count": 13,
   "metadata": {
    "execution": {
     "iopub.execute_input": "2024-04-18T13:48:55.901722Z",
     "iopub.status.busy": "2024-04-18T13:48:55.900830Z",
     "iopub.status.idle": "2024-04-18T13:48:55.904507Z",
     "shell.execute_reply": "2024-04-18T13:48:55.903835Z",
     "shell.execute_reply.started": "2024-04-18T08:40:55.173992Z"
    },
    "papermill": {
     "duration": 0.064026,
     "end_time": "2024-04-18T13:48:55.904724",
     "exception": false,
     "start_time": "2024-04-18T13:48:55.840698",
     "status": "completed"
    },
    "tags": []
   },
   "outputs": [],
   "source": [
    "# implementing SVM using Stochastic Gradient Descent and Pegasos algorithms\n",
    "\n",
    "def SVM_SGD(X,Y,lambda_,epoches):\n",
    "    \n",
    "    X = np.c_[np.ones(X.shape[0]), X] # adding feature containing 1\n",
    "    w = np.zeros(X.shape[1]) # initializing w with 0s\n",
    "    \n",
    "    # converting arrays to matrix\n",
    "    X = np.matrix(X)\n",
    "    Y = np.matrix(Y) \n",
    "    Y = Y.T\n",
    "    w = np.matrix(w)\n",
    "\n",
    "    for t in range(1,epoches+1):\n",
    "        \n",
    "        # choosing random points\n",
    "        random_pos = random.randrange(0, X.shape[0]-1)\n",
    "        x = X[random_pos,:]\n",
    "        y = Y[random_pos,:]\n",
    "    \n",
    "        # computing eta and finding class\n",
    "        eta = 1/(lambda_*t)\n",
    "        cls = y * (w*x.T)\n",
    "\n",
    "        if cls < 1:\n",
    "            w = (1 - eta*lambda_)*w + eta*y*x\n",
    "        elif cls >= 1:\n",
    "            w = (1 - eta*lambda_)*w\n",
    "\n",
    "    pred = w*X.T\n",
    "    # converting matrix back to array\n",
    "    pred = np.array(pred)\n",
    "    return np.array(w)[0]\n",
    "        "
   ]
  },
  {
   "cell_type": "code",
   "execution_count": 14,
   "metadata": {
    "execution": {
     "iopub.execute_input": "2024-04-18T13:48:56.008877Z",
     "iopub.status.busy": "2024-04-18T13:48:56.007930Z",
     "iopub.status.idle": "2024-04-18T13:48:56.083546Z",
     "shell.execute_reply": "2024-04-18T13:48:56.082868Z",
     "shell.execute_reply.started": "2024-04-18T08:40:55.695327Z"
    },
    "papermill": {
     "duration": 0.129578,
     "end_time": "2024-04-18T13:48:56.083763",
     "exception": false,
     "start_time": "2024-04-18T13:48:55.954185",
     "status": "completed"
    },
    "tags": []
   },
   "outputs": [],
   "source": [
    "w = SVM_SGD(X_train,y_train,lambda_ = 0.01,epoches = 1000)\n",
    "\n",
    "# Add bias feature to test data\n",
    "X_test_bias = np.c_[np.ones(X_test.shape[0]), X_test]\n",
    "\n",
    "# Predict labels for test data\n",
    "pred = np.dot(X_test_bias, w)\n",
    "\n",
    "result = [1 if val > 0 else -1 for val in pred]\n"
   ]
  },
  {
   "cell_type": "code",
   "execution_count": 15,
   "metadata": {
    "execution": {
     "iopub.execute_input": "2024-04-18T13:48:56.194227Z",
     "iopub.status.busy": "2024-04-18T13:48:56.193248Z",
     "iopub.status.idle": "2024-04-18T13:48:56.202020Z",
     "shell.execute_reply": "2024-04-18T13:48:56.201070Z",
     "shell.execute_reply.started": "2024-04-18T08:41:58.406171Z"
    },
    "papermill": {
     "duration": 0.067224,
     "end_time": "2024-04-18T13:48:56.202218",
     "exception": false,
     "start_time": "2024-04-18T13:48:56.134994",
     "status": "completed"
    },
    "tags": []
   },
   "outputs": [
    {
     "data": {
      "text/plain": [
       "0.8722659667541557"
      ]
     },
     "execution_count": 15,
     "metadata": {},
     "output_type": "execute_result"
    }
   ],
   "source": [
    "accuracy_score(result,y_test)"
   ]
  },
  {
   "cell_type": "markdown",
   "metadata": {
    "papermill": {
     "duration": 0.048987,
     "end_time": "2024-04-18T13:48:56.301228",
     "exception": false,
     "start_time": "2024-04-18T13:48:56.252241",
     "status": "completed"
    },
    "tags": []
   },
   "source": [
    "<br><br>\n",
    "<hr>\n",
    "<br><br>\n",
    "<center><h2>SVM for Non-Linear Dataset using Kernel</h2><center>"
   ]
  },
  {
   "cell_type": "markdown",
   "metadata": {
    "papermill": {
     "duration": 0.049647,
     "end_time": "2024-04-18T13:48:56.401973",
     "exception": false,
     "start_time": "2024-04-18T13:48:56.352326",
     "status": "completed"
    },
    "tags": []
   },
   "source": [
    "![](https://adeveloperdiary.com/assets/img/Support-Vector-Machine-for-Beginners-Hard-Margin-Classifier-adeveloperdiary.com-0-.jpg)\n",
    "\n",
    "We can use Linear Classifier for Non Linear Classification by expanding the input space to a feature space. We can use the Kernel Trick to implement Non Linear SVM, without the need to have any higher dimensional feature vector (Less time and space complexity) . The Objective Function of Primal Problem works fine for Linearly Separable Dataset, however doesn’t solve Non-Linear Dataset. However our final goal is to solve Non-Linear SVM where Primal Problem is not helpful. In order to find a solution,we generally solve its dual problem.\n",
    "\n",
    "## Polynomial Kernel\n",
    "$$\n",
    "K_q(x, z) = (c + x^Tz)^q\n",
    "$$\n",
    "\n",
    "## Gaussian Kernel\n",
    "$$\n",
    "K(x, z) = \\exp \\left\\{ - \\frac{||x - z||^2}{2\\sigma^2} \\right\\}\n",
    "$$\n",
    "It is important to note that the feature space of Gaussian Kernel has Infinite Dimensionality.\n",
    "\n",
    "## Loss\n",
    "The Dual Lagrangian loss function which we are trying to maximize is:\n",
    "\n",
    "$$\n",
    "L_{\\text{dual}} = \\sum \\alpha_i - \\frac{1}{2} \\sum_i \\sum_j \\alpha_i \\alpha_j y_i y_j K(x_i, x_j)\n",
    "$$\n",
    "\n",
    "## Gradient\n",
    "\n",
    "Differentiating the loss wrt α<sub>k</sub> , using kth term for Gradient Ascent:\n",
    "\n",
    "$$\n",
    "\\frac{\\delta L_{\\text{dual}}}{\\delta \\alpha_k} = 1 - y_k \\sum_j \\alpha_j y_j K(x_j, x_k)\n",
    "$$\n",
    "\n",
    "where, <br>\n",
    "\n",
    "K(x<sub>i</sub>, x<sub>j</sub>) is our Kernel function which could be linear, polynomial or gaussian(rbf).\n",
    "\n",
    "## Updates\n",
    "\n",
    "α = α + η*(gradient)\n",
    "\n",
    "where η = learning rate\n",
    "\n",
    "After training, calculate intercept b:\n",
    "\n",
    "$$\n",
    "b = \\text{avg}_{0 \\leq \\alpha_i \\leq C} \\left\\{ y_i - \\sum_j \\alpha_j y_j K(x_j, x_i) \\right\\}\n",
    "$$\n",
    "\n",
    "\n",
    "## Prediction\n",
    "\n",
    "For α>0 :\n",
    "\n",
    "$$\n",
    "\\hat{y} = \\text{sign} \\left( \\sum \\alpha_i y_i k(x_i, x_i) + b \\right)\n",
    "$$\n",
    "\n"
   ]
  },
  {
   "cell_type": "code",
   "execution_count": 16,
   "metadata": {
    "execution": {
     "iopub.execute_input": "2024-04-18T13:48:56.510056Z",
     "iopub.status.busy": "2024-04-18T13:48:56.509156Z",
     "iopub.status.idle": "2024-04-18T13:48:56.520010Z",
     "shell.execute_reply": "2024-04-18T13:48:56.519106Z",
     "shell.execute_reply.started": "2024-04-18T05:57:38.967378Z"
    },
    "papermill": {
     "duration": 0.065078,
     "end_time": "2024-04-18T13:48:56.520190",
     "exception": false,
     "start_time": "2024-04-18T13:48:56.455112",
     "status": "completed"
    },
    "tags": []
   },
   "outputs": [],
   "source": [
    "X_train, X_test, y_train, y_test = train_test_split(X, Y, test_size=0.45,random_state=0) # creating testing and training set"
   ]
  },
  {
   "cell_type": "code",
   "execution_count": 17,
   "metadata": {
    "execution": {
     "iopub.execute_input": "2024-04-18T13:48:56.640106Z",
     "iopub.status.busy": "2024-04-18T13:48:56.634761Z",
     "iopub.status.idle": "2024-04-18T13:48:56.654364Z",
     "shell.execute_reply": "2024-04-18T13:48:56.653058Z",
     "shell.execute_reply.started": "2024-04-18T08:42:06.565813Z"
    },
    "papermill": {
     "duration": 0.084239,
     "end_time": "2024-04-18T13:48:56.654678",
     "exception": false,
     "start_time": "2024-04-18T13:48:56.570439",
     "status": "completed"
    },
    "tags": []
   },
   "outputs": [],
   "source": [
    "class SVM_Dual:\n",
    "\n",
    "    def __init__(self, kernel='poly', degree=2, sigma=1, epoches=250, learning_rate= 0.01, gamma = 0.1):\n",
    "        self.alpha = None\n",
    "        self.b = 0\n",
    "        self.degree = degree\n",
    "        self.c = 75\n",
    "        self.C = 1\n",
    "        self.sigma = sigma\n",
    "        self.epoches = epoches\n",
    "        self.gamma = gamma\n",
    "        self.learning_rate = learning_rate\n",
    "        self.iter = []\n",
    "        self.loss = []\n",
    "\n",
    "        if kernel == 'poly':\n",
    "            self.kernel = self.polynomial_kernal # for polynomial kernal\n",
    "        elif kernel == 'rbf':\n",
    "            self.kernel =  self.gaussian_kernal # for guassian\n",
    "        elif kernel == 'tanh':\n",
    "            self.kernel = self.tanh_kernel\n",
    "        elif kernel == 'laplace':\n",
    "            self.kernel = self.laplacian_kernel\n",
    "        elif kernel == 'cosine':\n",
    "            self.kernel = self.cosine_similarity_kernel\n",
    "\n",
    "    def polynomial_kernal(self,X,Z):\n",
    "        return (self.c + X.dot(Z.T))**self.degree #(c + X.y)^degree\n",
    "\n",
    "    \n",
    "    def tanh_kernel(self, X, Z):\n",
    "        # Compute the dot product between X and Z\n",
    "        dot_product = X.dot(Z.T)\n",
    "        K = np.tanh(self.gamma * dot_product + self.c)\n",
    "\n",
    "        return K\n",
    "    \n",
    "    def gaussian_kernal(self, X,Z):\n",
    "        if isinstance(X, pd.DataFrame):\n",
    "            X = X.to_numpy()\n",
    "        if isinstance(Z, pd.DataFrame):\n",
    "            Z = Z.to_numpy()\n",
    "        return np.exp(-(1 / self.sigma ** 2) * np.linalg.norm(X[:, np.newaxis] - Z[np.newaxis, :], axis=2) ** 2) #e ^-(1/ σ2) ||X-y|| ^2\n",
    "    \n",
    "    def laplacian_kernel(self, X,Z):\n",
    "        if isinstance(X, pd.DataFrame):\n",
    "            X = X.to_numpy()\n",
    "        if isinstance(Z, pd.DataFrame):\n",
    "            Z = Z.to_numpy()\n",
    "        return np.exp(-(1 / self.sigma ) * np.linalg.norm(X[:, np.newaxis] - Z[np.newaxis, :], axis=2)) #e ^-(1/ σ2) ||X-y|| ^2\n",
    "    \n",
    "    def train(self,X,y):\n",
    "        self.X = X\n",
    "        self.y = y\n",
    "        self.alpha = np.random.random(X.shape[0])\n",
    "        self.b = 0\n",
    "        self.ones = np.ones(X.shape[0]) \n",
    "\n",
    "        y_mul_kernal = np.outer(y, y) * self.kernel(X, X) # yi yj K(xi, xj)\n",
    "\n",
    "        for i in range(self.epoches):\n",
    "            gradient = self.ones - y_mul_kernal.dot(self.alpha) # 1 – yk ∑ αj yj K(xj, xk)\n",
    "\n",
    "            self.alpha += self.learning_rate * gradient # α = α + η*(1 – yk ∑ αj yj K(xj, xk)) to maximize\n",
    "            self.alpha[self.alpha > self.C] = self.C # 0<α<C\n",
    "            self.alpha[self.alpha < 0] = 0 # 0<α<C\n",
    "\n",
    "            loss = np.sum(self.alpha) - 0.5 * np.sum(np.outer(self.alpha, self.alpha) * y_mul_kernal) # ∑αi – (1/2) ∑i ∑j αi αj yi yj K(xi, xj)\n",
    "            if i%10 ==0:\n",
    "                self.iter.append(i)\n",
    "                self.loss.append(loss)\n",
    "            \n",
    "        alpha_index = np.where((self.alpha) > 0 & (self.alpha < self.C))[0]\n",
    "        \n",
    "        # for intercept b, we will only consider α which are 0<α<C \n",
    "        b_list = []        \n",
    "        for index in alpha_index:\n",
    "            b_list.append(y.iloc[index] - (self.alpha * y).dot(self.kernel(X, X.iloc[index])))\n",
    "\n",
    "        self.b = np.mean(b_list) # avgC≤αi≤0{ yi – ∑αjyj K(xj, xi) }\n",
    "            \n",
    "    def predict(self, X):\n",
    "        return np.sign(self.decision_function(X))\n",
    "    \n",
    "    \n",
    "    def decision_function(self, X):\n",
    "        return (self.alpha * self.y).dot(self.kernel(self.X, X)) + self.b"
   ]
  },
  {
   "cell_type": "markdown",
   "metadata": {
    "papermill": {
     "duration": 0.050338,
     "end_time": "2024-04-18T13:48:56.756338",
     "exception": false,
     "start_time": "2024-04-18T13:48:56.706000",
     "status": "completed"
    },
    "tags": []
   },
   "source": [
    "## Training SVM with RBF kernel"
   ]
  },
  {
   "cell_type": "code",
   "execution_count": 18,
   "metadata": {
    "execution": {
     "iopub.execute_input": "2024-04-18T13:48:56.865095Z",
     "iopub.status.busy": "2024-04-18T13:48:56.864184Z",
     "iopub.status.idle": "2024-04-18T13:50:27.190504Z",
     "shell.execute_reply": "2024-04-18T13:50:27.191127Z"
    },
    "papermill": {
     "duration": 90.383985,
     "end_time": "2024-04-18T13:50:27.191494",
     "exception": false,
     "start_time": "2024-04-18T13:48:56.807509",
     "status": "completed"
    },
    "tags": []
   },
   "outputs": [
    {
     "name": "stderr",
     "output_type": "stream",
     "text": [
      "/opt/conda/lib/python3.7/site-packages/ipykernel_launcher.py:43: FutureWarning: Support for multi-dimensional indexing (e.g. `obj[:, None]`) is deprecated and will be removed in a future version.  Convert to a numpy array before indexing instead.\n"
     ]
    }
   ],
   "source": [
    "svm_dual = SVM_Dual(kernel='rbf')\n",
    "svm_dual.train(X_train,y_train)\n",
    "y_pred=svm_dual.predict(X_test)"
   ]
  },
  {
   "cell_type": "code",
   "execution_count": 19,
   "metadata": {
    "execution": {
     "iopub.execute_input": "2024-04-18T13:50:27.297945Z",
     "iopub.status.busy": "2024-04-18T13:50:27.296780Z",
     "iopub.status.idle": "2024-04-18T13:50:27.602963Z",
     "shell.execute_reply": "2024-04-18T13:50:27.603650Z"
    },
    "papermill": {
     "duration": 0.363162,
     "end_time": "2024-04-18T13:50:27.603840",
     "exception": false,
     "start_time": "2024-04-18T13:50:27.240678",
     "status": "completed"
    },
    "tags": []
   },
   "outputs": [
    {
     "data": {
      "image/png": "[encoded data removed]",
      "text/plain": [
       "<Figure size 432x288 with 1 Axes>"
      ]
     },
     "metadata": {
      "needs_background": "light"
     },
     "output_type": "display_data"
    }
   ],
   "source": [
    "plt.plot(svm_dual.iter, svm_dual.loss)\n",
    "plt.xlabel('Iterations')\n",
    "plt.ylabel('Loss')\n",
    "plt.title('Loss vs. Iterations')\n",
    "plt.show()"
   ]
  },
  {
   "cell_type": "code",
   "execution_count": 20,
   "metadata": {
    "execution": {
     "iopub.execute_input": "2024-04-18T13:50:27.709492Z",
     "iopub.status.busy": "2024-04-18T13:50:27.708317Z",
     "iopub.status.idle": "2024-04-18T13:50:27.912484Z",
     "shell.execute_reply": "2024-04-18T13:50:27.911797Z"
    },
    "papermill": {
     "duration": 0.25893,
     "end_time": "2024-04-18T13:50:27.912701",
     "exception": false,
     "start_time": "2024-04-18T13:50:27.653771",
     "status": "completed"
    },
    "tags": []
   },
   "outputs": [
    {
     "name": "stdout",
     "output_type": "stream",
     "text": [
      "\t\tPredicted Positive\tPredicted Negative\n",
      "Actual Positive\t\t2238\t\t\t168\n",
      "Actual Negative\t\t327\t\t\t2411\n",
      "\n",
      "Precision: 0.9301745635910225\n",
      "Recall: 0.8725146198830409\n",
      "F1 Score: 0.900422450211225\n",
      "Accuracy: 0.9037713841368584\n"
     ]
    }
   ],
   "source": [
    "confusion_matrix(y_test,y_pred)"
   ]
  },
  {
   "cell_type": "markdown",
   "metadata": {
    "papermill": {
     "duration": 0.050881,
     "end_time": "2024-04-18T13:50:28.014748",
     "exception": false,
     "start_time": "2024-04-18T13:50:27.963867",
     "status": "completed"
    },
    "tags": []
   },
   "source": [
    "## Training SVM with Polynomial Kernel"
   ]
  },
  {
   "cell_type": "code",
   "execution_count": 21,
   "metadata": {
    "execution": {
     "iopub.execute_input": "2024-04-18T13:50:28.120504Z",
     "iopub.status.busy": "2024-04-18T13:50:28.119359Z",
     "iopub.status.idle": "2024-04-18T13:52:04.631656Z",
     "shell.execute_reply": "2024-04-18T13:52:04.632326Z",
     "shell.execute_reply.started": "2024-04-18T06:05:53.093516Z"
    },
    "papermill": {
     "duration": 96.567133,
     "end_time": "2024-04-18T13:52:04.632546",
     "exception": false,
     "start_time": "2024-04-18T13:50:28.065413",
     "status": "completed"
    },
    "tags": []
   },
   "outputs": [],
   "source": [
    "svm_dual_poly = SVM_Dual(kernel='poly', degree=2)\n",
    "svm_dual_poly.train(X_train,y_train)\n",
    "y_pred=svm_dual_poly.predict(X_test)"
   ]
  },
  {
   "cell_type": "code",
   "execution_count": 22,
   "metadata": {
    "execution": {
     "iopub.execute_input": "2024-04-18T13:52:04.729236Z",
     "iopub.status.busy": "2024-04-18T13:52:04.728589Z",
     "iopub.status.idle": "2024-04-18T13:52:04.902703Z",
     "shell.execute_reply": "2024-04-18T13:52:04.903223Z",
     "shell.execute_reply.started": "2024-04-18T06:10:10.595194Z"
    },
    "papermill": {
     "duration": 0.224514,
     "end_time": "2024-04-18T13:52:04.903397",
     "exception": false,
     "start_time": "2024-04-18T13:52:04.678883",
     "status": "completed"
    },
    "tags": []
   },
   "outputs": [
    {
     "name": "stdout",
     "output_type": "stream",
     "text": [
      "\t\tPredicted Positive\tPredicted Negative\n",
      "Actual Positive\t\t2464\t\t\t1278\n",
      "Actual Negative\t\t101\t\t\t1301\n",
      "\n",
      "Precision: 0.6584714056654195\n",
      "Recall: 0.9606237816764133\n",
      "F1 Score: 0.7813540510543839\n",
      "Accuracy: 0.7319206842923794\n"
     ]
    }
   ],
   "source": [
    "confusion_matrix(y_test,y_pred)"
   ]
  },
  {
   "cell_type": "markdown",
   "metadata": {
    "papermill": {
     "duration": 0.046789,
     "end_time": "2024-04-18T13:52:04.997553",
     "exception": false,
     "start_time": "2024-04-18T13:52:04.950764",
     "status": "completed"
    },
    "tags": []
   },
   "source": [
    "## SVM With Mini-Batch Gradient Descent"
   ]
  },
  {
   "cell_type": "code",
   "execution_count": 23,
   "metadata": {
    "execution": {
     "iopub.execute_input": "2024-04-18T13:52:05.098853Z",
     "iopub.status.busy": "2024-04-18T13:52:05.098185Z",
     "iopub.status.idle": "2024-04-18T13:52:05.106261Z",
     "shell.execute_reply": "2024-04-18T13:52:05.105737Z",
     "shell.execute_reply.started": "2024-04-18T06:10:15.627587Z"
    },
    "papermill": {
     "duration": 0.06054,
     "end_time": "2024-04-18T13:52:05.106404",
     "exception": false,
     "start_time": "2024-04-18T13:52:05.045864",
     "status": "completed"
    },
    "tags": []
   },
   "outputs": [],
   "source": [
    "X_train, X_test, y_train, y_test = train_test_split(X, Y, test_size=0.2,random_state=0) # creating testing and training set"
   ]
  },
  {
   "cell_type": "code",
   "execution_count": 24,
   "metadata": {
    "execution": {
     "iopub.execute_input": "2024-04-18T13:52:05.229627Z",
     "iopub.status.busy": "2024-04-18T13:52:05.224324Z",
     "iopub.status.idle": "2024-04-18T13:52:05.239104Z",
     "shell.execute_reply": "2024-04-18T13:52:05.238385Z",
     "shell.execute_reply.started": "2024-04-18T06:10:15.964850Z"
    },
    "papermill": {
     "duration": 0.083884,
     "end_time": "2024-04-18T13:52:05.239252",
     "exception": false,
     "start_time": "2024-04-18T13:52:05.155368",
     "status": "completed"
    },
    "tags": []
   },
   "outputs": [],
   "source": [
    "class SVM_Dual_Batch:\n",
    "\n",
    "    def __init__(self, kernel='poly', degree=2, sigma=1, epoches=250, learning_rate= 0.01, batch_size = 4096):\n",
    "        self.alpha = None\n",
    "        self.b = 0\n",
    "        self.degree = degree\n",
    "        self.c = 75\n",
    "        self.C = 1\n",
    "        self.sigma = sigma\n",
    "        self.epoches = epoches\n",
    "        self.learning_rate = learning_rate\n",
    "        self.batch_size = batch_size\n",
    "        self.iter=[]\n",
    "        self.loss=[]\n",
    "\n",
    "        if kernel == 'poly':\n",
    "            self.kernel = self.polynomial_kernal # for polynomial kernal\n",
    "        elif kernel == 'rbf':\n",
    "            self.kernel =  self.gaussian_kernal # for guassian\n",
    "        elif kernel == 'tanh':\n",
    "            self.kernel = self.tanh_kernel\n",
    "        elif kernel == 'laplace':\n",
    "            self.kernel = self.laplacian_kernel\n",
    "        elif kernel == 'cosine':\n",
    "            self.kernel = self.cosine_similarity_kernel\n",
    "\n",
    "    def polynomial_kernal(self,X,Z):\n",
    "        return (self.c + X.dot(Z.T))**self.degree #(c + X.y)^degree\n",
    "\n",
    "\n",
    "    def tanh_kernel(self, X, Z):\n",
    "        # Compute the dot product between X and Z\n",
    "        dot_product = X.dot(Z.T)\n",
    "        K = np.tanh(self.gamma * dot_product + self.c)\n",
    "\n",
    "        return K\n",
    "    \n",
    "    def gaussian_kernal(self, X,Z):\n",
    "        if isinstance(X, pd.DataFrame):\n",
    "            X = X.to_numpy()\n",
    "        if isinstance(Z, pd.DataFrame):\n",
    "            Z = Z.to_numpy()\n",
    "        return np.exp(-(1 / self.sigma ** 2) * np.linalg.norm(X[:, np.newaxis] - Z[np.newaxis, :], axis=2) ** 2) #e ^-(1/ σ2) ||X-y|| ^2\n",
    "    \n",
    "    def laplacian_kernel(self, X,Z):\n",
    "        if isinstance(X, pd.DataFrame):\n",
    "            X = X.to_numpy()\n",
    "        if isinstance(Z, pd.DataFrame):\n",
    "            Z = Z.to_numpy()\n",
    "        return np.exp(-(1 / self.sigma ) * np.linalg.norm(X[:, np.newaxis] - Z[np.newaxis, :], axis=2)) #e ^-(1/ σ2) ||X-y|| ^2\n",
    "    \n",
    "    def cosine_similarity_kernel(self, X, Z):\n",
    "        # Compute the dot product between X and Z\n",
    "        dot_product = X.dot(Z.T)\n",
    "\n",
    "        # Compute the norms of X and Z\n",
    "        norm_X = np.linalg.norm(X, axis=1)\n",
    "        norm_Z = np.linalg.norm(Z, axis=1)\n",
    "\n",
    "        # Compute the cosine similarity kernel\n",
    "        cosine_similarity = dot_product / np.outer(norm_X, norm_Z)\n",
    "\n",
    "        return cosine_similarity\n",
    "\n",
    "    \n",
    "    def train(self,X,y):\n",
    "        self.X = X\n",
    "        self.y = y\n",
    "        self.alpha = np.random.random(X.shape[0])\n",
    "        self.b = 0\n",
    "        self.ones = np.ones(X.shape[0]) \n",
    "\n",
    "        for i in range(self.epoches):\n",
    "            for batch_start in range(0, X.shape[0], self.batch_size):\n",
    "                batch_end = min(batch_start + self.batch_size, X.shape[0])\n",
    "                X_batch = X.iloc[batch_start:batch_end]\n",
    "                y_batch = y.iloc[batch_start:batch_end]\n",
    "\n",
    "                y_mul_kernel_batch = np.outer(y_batch, y_batch) * self.kernel(X_batch, X_batch)  # yi yj K(xi, xj)\n",
    "                gradient = self.ones[batch_start:batch_end] - y_mul_kernel_batch.dot(self.alpha[batch_start:batch_end])  # 1 – yk ∑ αj yj K(xj, xk)\n",
    "\n",
    "                self.alpha[batch_start:batch_end] += self.learning_rate * gradient  # α = α + η*(1 – yk ∑ αj yj K(xj, xk)) to maximize\n",
    "                self.alpha[self.alpha > self.C] = self.C  # 0<α<C\n",
    "                self.alpha[self.alpha < 0] = 0  # 0<α<C\n",
    "                loss = np.sum(self.alpha[batch_start:batch_end]) - 0.5 * np.sum(np.outer(self.alpha[batch_start:batch_end], self.alpha[batch_start:batch_end]) * y_mul_kernel_batch) # ∑αi – (1/2) ∑i ∑j αi αj yi yj K(xi, xj)\n",
    "                if i%10 ==0 and batch_start == self.batch_size:\n",
    "                    self.iter.append(i)\n",
    "                    self.loss.append(loss)\n",
    "\n",
    "        alpha_index = np.where((self.alpha) > 0 & (self.alpha < self.C))[0]\n",
    "        \n",
    "        # for intercept b, we will only consider α which are 0<α<C \n",
    "        b_list = []        \n",
    "        for index in alpha_index:\n",
    "            b_list.append(y.iloc[index] - (self.alpha * y).dot(self.kernel(X, X.iloc[index])))\n",
    "\n",
    "        self.b = np.mean(b_list) # avgC≤αi≤0{ yi – ∑αjyj K(xj, xi) }\n",
    "            \n",
    "    def predict(self, X):\n",
    "        return np.sign(self.decision_function(X))\n",
    "    \n",
    "    def score(self, X, y):\n",
    "        y_hat = self.predict(X)\n",
    "        return np.mean(y == y_hat)\n",
    "    \n",
    "    def decision_function(self, X):\n",
    "        return (self.alpha * self.y).dot(self.kernel(self.X, X)) + self.b"
   ]
  },
  {
   "cell_type": "code",
   "execution_count": 25,
   "metadata": {
    "execution": {
     "iopub.execute_input": "2024-04-18T13:52:05.337390Z",
     "iopub.status.busy": "2024-04-18T13:52:05.336714Z",
     "iopub.status.idle": "2024-04-18T14:18:52.910063Z",
     "shell.execute_reply": "2024-04-18T14:18:52.910757Z",
     "shell.execute_reply.started": "2024-04-18T06:10:16.470919Z"
    },
    "papermill": {
     "duration": 1607.624959,
     "end_time": "2024-04-18T14:18:52.911060",
     "exception": false,
     "start_time": "2024-04-18T13:52:05.286101",
     "status": "completed"
    },
    "tags": []
   },
   "outputs": [
    {
     "name": "stderr",
     "output_type": "stream",
     "text": [
      "/opt/conda/lib/python3.7/site-packages/ipykernel_launcher.py:43: FutureWarning: Support for multi-dimensional indexing (e.g. `obj[:, None]`) is deprecated and will be removed in a future version.  Convert to a numpy array before indexing instead.\n"
     ]
    }
   ],
   "source": [
    "svm_batch = SVM_Dual_Batch(kernel = 'rbf')\n",
    "svm_batch.train(X_train,y_train)\n",
    "y_pred=svm_batch.predict(X_test)"
   ]
  },
  {
   "cell_type": "code",
   "execution_count": 26,
   "metadata": {
    "execution": {
     "iopub.execute_input": "2024-04-18T14:18:53.024992Z",
     "iopub.status.busy": "2024-04-18T14:18:53.024266Z",
     "iopub.status.idle": "2024-04-18T14:18:53.191388Z",
     "shell.execute_reply": "2024-04-18T14:18:53.192026Z",
     "shell.execute_reply.started": "2024-04-18T06:18:09.372827Z"
    },
    "papermill": {
     "duration": 0.221169,
     "end_time": "2024-04-18T14:18:53.192220",
     "exception": false,
     "start_time": "2024-04-18T14:18:52.971051",
     "status": "completed"
    },
    "tags": []
   },
   "outputs": [
    {
     "data": {
      "image/png": "[encoded data removed]",
      "text/plain": [
       "<Figure size 432x288 with 1 Axes>"
      ]
     },
     "metadata": {
      "needs_background": "light"
     },
     "output_type": "display_data"
    }
   ],
   "source": [
    "plt.plot(svm_batch.iter, svm_batch.loss)\n",
    "plt.xlabel('Iterations')\n",
    "plt.ylabel('Loss')\n",
    "plt.title('Loss vs. Iterations')\n",
    "plt.show()"
   ]
  },
  {
   "cell_type": "code",
   "execution_count": 27,
   "metadata": {
    "execution": {
     "iopub.execute_input": "2024-04-18T14:18:53.300889Z",
     "iopub.status.busy": "2024-04-18T14:18:53.300155Z",
     "iopub.status.idle": "2024-04-18T14:18:53.390911Z",
     "shell.execute_reply": "2024-04-18T14:18:53.390001Z",
     "shell.execute_reply.started": "2024-04-18T06:18:12.162621Z"
    },
    "papermill": {
     "duration": 0.146182,
     "end_time": "2024-04-18T14:18:53.391081",
     "exception": false,
     "start_time": "2024-04-18T14:18:53.244899",
     "status": "completed"
    },
    "tags": []
   },
   "outputs": [
    {
     "name": "stdout",
     "output_type": "stream",
     "text": [
      "\t\tPredicted Positive\tPredicted Negative\n",
      "Actual Positive\t\t966\t\t\t69\n",
      "Actual Negative\t\t165\t\t\t1086\n",
      "\n",
      "Precision: 0.9333333333333333\n",
      "Recall: 0.8541114058355438\n",
      "F1 Score: 0.8919667590027701\n",
      "Accuracy: 0.8976377952755905\n"
     ]
    }
   ],
   "source": [
    "confusion_matrix(y_test,y_pred)"
   ]
  },
  {
   "cell_type": "code",
   "execution_count": 28,
   "metadata": {
    "execution": {
     "iopub.execute_input": "2024-04-18T14:18:53.501068Z",
     "iopub.status.busy": "2024-04-18T14:18:53.500332Z",
     "iopub.status.idle": "2024-04-18T14:23:55.189774Z",
     "shell.execute_reply": "2024-04-18T14:23:55.190546Z"
    },
    "papermill": {
     "duration": 301.747274,
     "end_time": "2024-04-18T14:23:55.190792",
     "exception": false,
     "start_time": "2024-04-18T14:18:53.443518",
     "status": "completed"
    },
    "tags": []
   },
   "outputs": [],
   "source": [
    "svm_poly_batch = SVM_Dual_Batch(kernel='poly', degree=2)\n",
    "svm_poly_batch.train(X_train,y_train)\n",
    "y_pred=svm_poly_batch.predict(X_test)"
   ]
  },
  {
   "cell_type": "code",
   "execution_count": 29,
   "metadata": {
    "execution": {
     "iopub.execute_input": "2024-04-18T14:23:55.301835Z",
     "iopub.status.busy": "2024-04-18T14:23:55.300769Z",
     "iopub.status.idle": "2024-04-18T14:23:55.392685Z",
     "shell.execute_reply": "2024-04-18T14:23:55.392026Z"
    },
    "papermill": {
     "duration": 0.148378,
     "end_time": "2024-04-18T14:23:55.392847",
     "exception": false,
     "start_time": "2024-04-18T14:23:55.244469",
     "status": "completed"
    },
    "tags": []
   },
   "outputs": [
    {
     "name": "stdout",
     "output_type": "stream",
     "text": [
      "\t\tPredicted Positive\tPredicted Negative\n",
      "Actual Positive\t\t907\t\t\t92\n",
      "Actual Negative\t\t224\t\t\t1063\n",
      "\n",
      "Precision: 0.9079079079079079\n",
      "Recall: 0.801945181255526\n",
      "F1 Score: 0.8516431924882629\n",
      "Accuracy: 0.8617672790901137\n"
     ]
    }
   ],
   "source": [
    "confusion_matrix(y_test,y_pred)"
   ]
  },
  {
   "cell_type": "markdown",
   "metadata": {
    "papermill": {
     "duration": 0.051194,
     "end_time": "2024-04-18T14:23:55.497238",
     "exception": false,
     "start_time": "2024-04-18T14:23:55.446044",
     "status": "completed"
    },
    "tags": []
   },
   "source": [
    "## Results of standard SVM implementation"
   ]
  },
  {
   "cell_type": "code",
   "execution_count": 30,
   "metadata": {
    "execution": {
     "iopub.execute_input": "2024-04-18T14:23:55.605406Z",
     "iopub.status.busy": "2024-04-18T14:23:55.604439Z",
     "iopub.status.idle": "2024-04-18T14:24:03.062597Z",
     "shell.execute_reply": "2024-04-18T14:24:03.063177Z"
    },
    "papermill": {
     "duration": 7.514478,
     "end_time": "2024-04-18T14:24:03.063386",
     "exception": false,
     "start_time": "2024-04-18T14:23:55.548908",
     "status": "completed"
    },
    "tags": []
   },
   "outputs": [
    {
     "data": {
      "text/plain": [
       "SVC(kernel='sigmoid')"
      ]
     },
     "execution_count": 30,
     "metadata": {},
     "output_type": "execute_result"
    }
   ],
   "source": [
    "# Training\n",
    "svm_lin = SVC(kernel='linear') \n",
    "svm_lin.fit(X_train, y_train) \n",
    "\n",
    "svm_poly = SVC(kernel='poly') \n",
    "svm_poly.fit(X_train, y_train) \n",
    "\n",
    "svm_rbf = SVC(kernel='rbf') \n",
    "svm_rbf.fit(X_train, y_train)\n",
    "\n",
    "svm_tanh= SVC(kernel='sigmoid')\n",
    "svm_tanh.fit(X_train, y_train)"
   ]
  },
  {
   "cell_type": "code",
   "execution_count": 31,
   "metadata": {
    "execution": {
     "iopub.execute_input": "2024-04-18T14:24:03.182732Z",
     "iopub.status.busy": "2024-04-18T14:24:03.181696Z",
     "iopub.status.idle": "2024-04-18T14:24:04.014158Z",
     "shell.execute_reply": "2024-04-18T14:24:04.013394Z"
    },
    "papermill": {
     "duration": 0.89666,
     "end_time": "2024-04-18T14:24:04.014322",
     "exception": false,
     "start_time": "2024-04-18T14:24:03.117662",
     "status": "completed"
    },
    "tags": []
   },
   "outputs": [
    {
     "name": "stdout",
     "output_type": "stream",
     "text": [
      "Accuracy of linear kernel: 0.8853893263342082\n",
      "Accuracy of polynomial kernel: 0.9164479440069991\n",
      "Accuracy of RBF kernel: 0.9273840769903762\n",
      "Accuracy of sigmoid kernel: 0.8258967629046369\n"
     ]
    }
   ],
   "source": [
    "print(\"Accuracy of linear kernel:\" ,accuracy_score(svm_lin.predict(X_test),y_test))\n",
    "print(\"Accuracy of polynomial kernel:\" ,accuracy_score(svm_poly.predict(X_test),y_test))\n",
    "print(\"Accuracy of RBF kernel:\" ,accuracy_score(svm_rbf.predict(X_test),y_test))\n",
    "print(\"Accuracy of sigmoid kernel:\" ,accuracy_score(svm_tanh.predict(X_test),y_test))"
   ]
  },
  {
   "cell_type": "markdown",
   "metadata": {
    "papermill": {
     "duration": 0.055311,
     "end_time": "2024-04-18T14:24:04.125619",
     "exception": false,
     "start_time": "2024-04-18T14:24:04.070308",
     "status": "completed"
    },
    "tags": []
   },
   "source": [
    "<hr>\n",
    "<br><br>\n",
    "<center><h2> Sequential Minimal Optimization (SMO) </h2></center>"
   ]
  },
  {
   "cell_type": "markdown",
   "metadata": {
    "papermill": {
     "duration": 0.055276,
     "end_time": "2024-04-18T14:24:04.237431",
     "exception": false,
     "start_time": "2024-04-18T14:24:04.182155",
     "status": "completed"
    },
    "tags": []
   },
   "source": [
    "SMO chooses to solve the smallest possible optimization problem at every step. For the standard SVM QP problem, the smallest possible optimization problem involves two Lagrange multipliers, because the Lagrange multipliers must obey a linear equality constraint. At every step, SMO chooses two Lagrange multipliers to jointly optimize, finds the optimal values for these multipliers, and updates the SVM to reflect the new optimal values. SMO requires no extra matrix storage at all. Thus, very large SVM training problems can fit inside of the memory of an ordinary personal computer or workstation.\n",
    "\n",
    "There are two components to SMO: an analytic method for solving for the two Lagrange multipliers, and a heuristic for choosing which multipliers to optimize.\n",
    "\n",
    "\n",
    "## Coordinate Ascend\n",
    "Keep all but α<sub>1</sub> fixed and chose α<sub>2</sub> to maximize\n",
    "$$\n",
    "L_{\\text{dual}} = \\sum \\alpha_i - \\frac{1}{2} \\sum_i \\sum_j \\alpha_i \\alpha_j y_i y_j K(x_i, x_j)\n",
    "$$\n",
    "while ensuring all constraints remain satisfied.\n",
    "\n",
    "<span style=\"color:red; font-size: 20px;\">Issue:</span>\n",
    "\n",
    "$\\sum_{i=1}^{n} \\alpha_i y_i = 0$\n",
    "forces $\\alpha_1 = \\frac{\\sum_{i \\neq 1} \\alpha_i y_i}{y_1}$ so we cannot change α<sub>1</sub>.\n",
    "\n",
    "### Ascend on two coordinates\n",
    "Keep all but α<sub>1</sub>,α<sub>2</sub> fixed and chose α<sub>1</sub>,α<sub>2</sub> to maximize\n",
    "$$\n",
    "L_{\\text{dual}} = \\sum \\alpha_i - \\frac{1}{2} \\sum_i \\sum_j \\alpha_i \\alpha_j y_i y_j K(x_i, x_j)\n",
    "$$\n",
    "while ensuring all constraints remain satisfied.\n",
    "\n",
    "$\\sum_{i=1}^{n} \\alpha_i y_i = 0$\n",
    "forces $\\alpha_1 y_1 + \\alpha_2 y_2 = \\sum_{i \\neq 1, 2} \\alpha_i y_i$ = &delta;\n",
    "\n",
    "\n",
    "This gives $\\alpha_2 = \\frac{\\delta - \\alpha_1 y_1}{y_2}$\n",
    "\n",
    "\n",
    "\n",
    "![](https://www.researchgate.net/publication/2624239/figure/fig1/AS:341172695388163@1458353317827/The-two-Lagrange-multipliers-must-fulfill-all-of-the-constraints-of-the-full-problem-The.png)\n",
    "\n",
    "The two Lagrange multipliers must fulfill all of the constraints of the full problem. The inequality constraints cause the Lagrange multipliers to lie in the box. The linear equality constraint causes them to lie on a diagonal line. Therefore, one step of SMO must find an optimum of the objective function on a diagonal line segment.\n",
    "\n",
    "If the target y1 does not equal the target y2, then the following bounds apply to α2:\n",
    "$$ L = \\max(0, \\alpha_{2}-\\alpha_{1}) $$ \n",
    "\n",
    "$$ R = \\min(C, C + \\alpha_{2}-\\alpha_{1}) $$\n",
    "\n",
    "If the target y1 equals the target y2, then the following bounds apply to α2:\n",
    "\n",
    "$$ L = \\max(0, \\alpha_{2}+\\alpha_{1} - C) $$ \n",
    "\n",
    "$$ R = \\min(C, C + \\alpha_{2}+\\alpha_{1}) $$\n",
    "\n",
    "The second derivative of the objective function along the diagonal line can be expressed as:\n",
    "\n",
    "$$ η = K(x_1, x_1) + K(x_2, x_2) - 2K(x_1, x_2)\n",
    "$$\n",
    "\n",
    "We use gradient descent to find the updates in the value of α<sub>2</sub>.\n",
    "\n",
    "$$\\alpha_2^{new} = \\alpha_2 + \\frac{y_2(E_1 - E_2)}{η}$$\n",
    "\n",
    "where E<sub>i</sub> = u<sub>i</sub> - y<sub>i</sub> is the error on the i<sup>th</sup> training example.\n",
    "\n",
    "As a next step, the constrained minimum is found by clipping the unconstrained minimum to the ends of the line segment:\n",
    "\n",
    "$$\\alpha_2^{new,clipped} = min(R, max(L,\\alpha_2^{new}))$$\n",
    "\n",
    "The value of α<sub>1</sub> is computed from the new, clipped, α<sub>2</sub>:\n",
    "\n",
    "$$\\alpha_1^{new} = \\alpha_1 + y_1 y_2 (\\alpha_2 - \\alpha_2^{new,clipped})$$"
   ]
  },
  {
   "cell_type": "code",
   "execution_count": 32,
   "metadata": {
    "execution": {
     "iopub.execute_input": "2024-04-18T14:24:04.356758Z",
     "iopub.status.busy": "2024-04-18T14:24:04.355364Z",
     "iopub.status.idle": "2024-04-18T14:24:04.361677Z",
     "shell.execute_reply": "2024-04-18T14:24:04.361052Z"
    },
    "papermill": {
     "duration": 0.067983,
     "end_time": "2024-04-18T14:24:04.361836",
     "exception": false,
     "start_time": "2024-04-18T14:24:04.293853",
     "status": "completed"
    },
    "tags": []
   },
   "outputs": [],
   "source": [
    "X_train, X_test, y_train, y_test = train_test_split(X, Y, test_size=0.4,random_state=0) # creating testing and training set"
   ]
  },
  {
   "cell_type": "code",
   "execution_count": 33,
   "metadata": {
    "execution": {
     "iopub.execute_input": "2024-04-18T14:24:04.487300Z",
     "iopub.status.busy": "2024-04-18T14:24:04.481756Z",
     "iopub.status.idle": "2024-04-18T14:24:04.509986Z",
     "shell.execute_reply": "2024-04-18T14:24:04.509207Z",
     "shell.execute_reply.started": "2024-04-17T17:15:39.601981Z"
    },
    "papermill": {
     "duration": 0.092651,
     "end_time": "2024-04-18T14:24:04.510157",
     "exception": false,
     "start_time": "2024-04-18T14:24:04.417506",
     "status": "completed"
    },
    "tags": []
   },
   "outputs": [],
   "source": [
    "class SVM_SMO:\n",
    "\n",
    "    def __init__(self, kernel='poly', degree=2, sigma=1, epoches=250, learning_rate= 0.01, epsilon=0.001):\n",
    "        self.alpha = None\n",
    "        self.b = 0\n",
    "        self.degree = degree\n",
    "        self.c = 75\n",
    "        self.C = 1\n",
    "        self.sigma = sigma\n",
    "        self.epoches = epoches\n",
    "        self.learning_rate = learning_rate\n",
    "        self.epsilon = epsilon\n",
    "        self.iter=[]\n",
    "        self.loss=[]\n",
    "        \n",
    "        if kernel == 'linear':\n",
    "            self.kernel=self.linear_kernel\n",
    "        elif kernel == 'poly':\n",
    "            self.kernel = self.polynomial_kernel\n",
    "        elif kernel == 'rbf':\n",
    "            self.kernel =  self.gaussian_kernel\n",
    "            \n",
    "    def linear_kernel(self,X,Z):\n",
    "        return X.dot(Z.T)\n",
    "    \n",
    "    def polynomial_kernel(self,X,Z):\n",
    "        return (self.c + X.dot(Z.T))**self.degree  #(c + X.y)^degree\n",
    "    \n",
    "    def gaussian_kernel(self, X,Z):\n",
    "        return np.exp(- (np.linalg.norm(X - Z, 2)) ** 2 / (2 * self.sigma ** 2))\n",
    "\n",
    "    def calc_b(self, X, y, w):\n",
    "        b_tmp = y - np.dot(w.T, X.T)\n",
    "        return np.mean(b_tmp)\n",
    "    \n",
    "    def calc_w(self, alpha, y, X):\n",
    "        return np.dot(X.T, np.multiply(alpha,y))\n",
    "    \n",
    "    def E(self, x_k, y_k, w, b):\n",
    "        return self.h(x_k, w, b) - y_k\n",
    "    \n",
    "    def compute_limits(self, C, alpha_prime_j, alpha_prime_i, y_j, y_i):\n",
    "        if(y_i != y_j):\n",
    "            return (max(0, alpha_prime_j - alpha_prime_i), min(C, C - alpha_prime_i + alpha_prime_j))\n",
    "        else:\n",
    "            return (max(0, alpha_prime_i + alpha_prime_j - C), min(C, alpha_prime_i + alpha_prime_j))\n",
    "    \n",
    "    def train(self,X,y):\n",
    "        self.X = X\n",
    "        self.y = y\n",
    "        self.alpha = np.random.random(X.shape[0])\n",
    "        self.b = 0\n",
    "        n, d = X.shape[0], X.shape[1]\n",
    "        for count in range(self.epoches):\n",
    "            alpha_prev = np.copy(self.alpha)\n",
    "            for j in range(0, n):\n",
    "                i = j\n",
    "                while i==j:\n",
    "                    i = random.randint(0,n-1)\n",
    "                x_i, x_j, y_i, y_j = X.iloc[i], X.iloc[j], y.iloc[i], y.iloc[j]\n",
    "                k_ij = self.kernel(x_i, x_i) + self.kernel(x_j, x_j) - 2 * self.kernel(x_i, x_j)\n",
    "                if k_ij == 0:\n",
    "                    continue\n",
    "                alpha_prime_j, alpha_prime_i = self.alpha[j], self.alpha[i]\n",
    "                (L, R) = self.compute_limits(self.C, alpha_prime_j, alpha_prime_i, y_j, y_i)\n",
    "\n",
    "                # Compute model parameters\n",
    "                self.w = self.calc_w(self.alpha, y, X)\n",
    "                self.b = self.calc_b(X, y, self.w)\n",
    "\n",
    "                # Compute E_i, E_j\n",
    "                E_i = self.E(x_i, y_i, self.w, self.b)\n",
    "                E_j = self.E(x_j, y_j, self.w, self.b)\n",
    "\n",
    "                # Set new alpha values\n",
    "                self.alpha[j] = alpha_prime_j + float(y_j * (E_i - E_j))/k_ij\n",
    "                self.alpha[j] = max(self.alpha[j], L)\n",
    "                self.alpha[j] = min(self.alpha[j], R)\n",
    "\n",
    "                self.alpha[i] = alpha_prime_i + y_i*y_j * (alpha_prime_j - self.alpha[j])\n",
    "            # Check convergence\n",
    "            loss = np.sum(self.alpha) - 0.5 * np.sum(np.outer(self.alpha, self.alpha) * np.outer(y, y) * self.kernel(X, X)) # ∑αi – (1/2) ∑i ∑j αi αj yi yj K(xi, xj)\n",
    "            if count%10 ==0:\n",
    "                self.iter.append(count)\n",
    "                self.loss.append(loss)\n",
    "            diff = np.linalg.norm(self.alpha - alpha_prev)\n",
    "            if diff < self.epsilon:\n",
    "                break\n",
    "        self.b = self.calc_b(X, y, self.w)  \n",
    "        if self.kernel == 'linear':\n",
    "            self.w = self.calc_w(alpha, y, X)\n",
    "            \n",
    "    def score(self, X, y):\n",
    "        y_hat = self.predict(X)\n",
    "        return np.mean(y == y_hat)\n",
    "    \n",
    "    def predict(self, X):\n",
    "        return self.h(X, self.w, self.b)\n",
    "    \n",
    "    def h(self, X, w, b):\n",
    "        return np.sign(np.dot(w.T, X.T) + b).astype(int)"
   ]
  },
  {
   "cell_type": "code",
   "execution_count": 34,
   "metadata": {
    "execution": {
     "iopub.execute_input": "2024-04-18T14:24:04.628969Z",
     "iopub.status.busy": "2024-04-18T14:24:04.628206Z",
     "iopub.status.idle": "2024-04-18T14:26:21.893269Z",
     "shell.execute_reply": "2024-04-18T14:26:21.892378Z",
     "shell.execute_reply.started": "2024-04-17T17:15:39.642016Z"
    },
    "papermill": {
     "duration": 137.327995,
     "end_time": "2024-04-18T14:26:21.893453",
     "exception": false,
     "start_time": "2024-04-18T14:24:04.565458",
     "status": "completed"
    },
    "tags": []
   },
   "outputs": [],
   "source": [
    "svm_smo = SVM_SMO(kernel='rbf')\n",
    "svm_smo.train(X_train,y_train)\n",
    "y_pred=svm_smo.predict(X_test)"
   ]
  },
  {
   "cell_type": "code",
   "execution_count": 35,
   "metadata": {
    "execution": {
     "iopub.execute_input": "2024-04-18T14:26:22.007761Z",
     "iopub.status.busy": "2024-04-18T14:26:22.006700Z",
     "iopub.status.idle": "2024-04-18T14:26:22.147118Z",
     "shell.execute_reply": "2024-04-18T14:26:22.146503Z"
    },
    "papermill": {
     "duration": 0.199044,
     "end_time": "2024-04-18T14:26:22.147301",
     "exception": false,
     "start_time": "2024-04-18T14:26:21.948257",
     "status": "completed"
    },
    "tags": []
   },
   "outputs": [
    {
     "name": "stdout",
     "output_type": "stream",
     "text": [
      "\t\tPredicted Positive\tPredicted Negative\n",
      "Actual Positive\t\t1960\t\t\t215\n",
      "Actual Negative\t\t326\t\t\t2071\n",
      "\n",
      "Precision: 0.9011494252873563\n",
      "Recall: 0.8573928258967629\n",
      "F1 Score: 0.8787267428827619\n",
      "Accuracy: 0.88167104111986\n"
     ]
    }
   ],
   "source": [
    "confusion_matrix(y_test,y_pred)"
   ]
  },
  {
   "cell_type": "markdown",
   "metadata": {
    "papermill": {
     "duration": 0.053217,
     "end_time": "2024-04-18T14:26:22.255098",
     "exception": false,
     "start_time": "2024-04-18T14:26:22.201881",
     "status": "completed"
    },
    "tags": []
   },
   "source": [
    "## Heuristics for Choosing Which Multipliers To Optimize\n",
    "\n",
    "There are two separate choice heuristics: one for the first Lagrange multiplier and one for the\n",
    "second. The choice of the first heuristic provides the outer loop of the SMO algorithm. The outer\n",
    "loop first iterates over the entire training set, determining whether each example violates the KKT\n",
    "conditions. If an example violates the KKT conditions, it is then eligible for optimization.\n",
    "After one pass through the entire training set, the outer loop iterates over all examples whose\n",
    "Lagrange multipliers are neither 0 nor C (the non-bound examples). Again, each example is\n",
    "checked against the KKT conditions and violating examples are eligible for optimization. The outer loop then goes back and iterates over the\n",
    "entire training set. The outer loop keeps alternating between single passes over the entire training\n",
    "set and multiple passes over the non-bound subset until the entire training set obeys the KKT\n",
    "conditions within ε, whereupon the algorithm terminates.\n",
    "\n",
    "Based on KKT conditions, stop when:\n",
    "$$\n",
    "\\alpha_i = 0 \\Rightarrow y_i(w^\\top x_i + b) \\geq 1 \n",
    "$$\n",
    "$$\n",
    "\\alpha_i = C \\Rightarrow y_i(w^\\top x_i + b) \\leq 1 \n",
    "$$\n",
    "$$\n",
    "0 < \\alpha_i < C \\Rightarrow y_i(w^\\top x_i + b) = 1\n",
    "$$\n",
    "\n",
    "Allow a bit of slack! Tolerance $\\epsilon$ equal to 0.001. Stop when:\n",
    "\n",
    "$$\n",
    "\\alpha_i = 0 \\Rightarrow y_i(w^\\top x_i + b) \\geq 1 - \\epsilon\n",
    "$$\n",
    "$$\n",
    "\\alpha_i = C \\Rightarrow y_i(w^\\top x_i + b) \\leq 1 + \\epsilon\n",
    "$$\n",
    "$$\n",
    "0 < \\alpha_i < C \\Rightarrow y_i(w^\\top x_i + b) \\in (1 - \\epsilon, 1 + \\epsilon)\n",
    "$$"
   ]
  },
  {
   "cell_type": "code",
   "execution_count": 36,
   "metadata": {
    "execution": {
     "iopub.execute_input": "2024-04-18T14:26:22.405486Z",
     "iopub.status.busy": "2024-04-18T14:26:22.389878Z",
     "iopub.status.idle": "2024-04-18T14:26:22.408637Z",
     "shell.execute_reply": "2024-04-18T14:26:22.407880Z",
     "shell.execute_reply.started": "2024-04-17T17:14:28.954070Z"
    },
    "papermill": {
     "duration": 0.097738,
     "end_time": "2024-04-18T14:26:22.408792",
     "exception": false,
     "start_time": "2024-04-18T14:26:22.311054",
     "status": "completed"
    },
    "tags": []
   },
   "outputs": [],
   "source": [
    "class SVM_SMO_OPT:\n",
    "\n",
    "    def __init__(self, kernel='poly', degree=2, sigma=1, epoches=250, learning_rate= 0.01, epsilon=0.01):\n",
    "        self.alpha = None\n",
    "        self.b = 0\n",
    "        self.degree = degree\n",
    "        self.c = 75\n",
    "        self.C = 1\n",
    "        self.sigma = sigma\n",
    "        self.epoches = epoches\n",
    "        self.learning_rate = learning_rate\n",
    "        self.epsilon = epsilon\n",
    "        self.iter=[]\n",
    "        self.loss=[]\n",
    "        \n",
    "        if kernel == 'linear':\n",
    "            self.kernel=self.linear_kernel\n",
    "        elif kernel == 'poly':\n",
    "            self.kernel = self.polynomial_kernel\n",
    "        elif kernel == 'rbf':\n",
    "            self.kernel =  self.gaussian_kernel\n",
    "            \n",
    "    def linear_kernel(self,X,Z):\n",
    "        return X.dot(Z.T)\n",
    "    \n",
    "    def polynomial_kernel(self,X,Z):\n",
    "        return (self.c + X.dot(Z.T))**self.degree  #(c + X.y)^degree\n",
    "    \n",
    "    def gaussian_kernel(self, X,Z):\n",
    "        return np.exp(- (np.linalg.norm(X - Z, 2)) ** 2 / (2 * self.sigma ** 2))\n",
    "\n",
    "    def calc_b(self, X, y, w):\n",
    "        b_tmp = y - np.dot(w.T, X.T)\n",
    "        return np.mean(b_tmp)\n",
    "    \n",
    "    def calc_w(self, alpha, y, X):\n",
    "        return np.dot(X.T, np.multiply(alpha,y))\n",
    "    \n",
    "    def E(self, x_k, y_k, w, b):\n",
    "        return self.h(x_k, w, b) - y_k\n",
    "    \n",
    "    def compute_limits(self, C, alpha_prime_j, alpha_prime_i, y_j, y_i):\n",
    "        if(y_i != y_j):\n",
    "            return (max(0, alpha_prime_j - alpha_prime_i), min(C, C - alpha_prime_i + alpha_prime_j))\n",
    "        else:\n",
    "            return (max(0, alpha_prime_i + alpha_prime_j - C), min(C, alpha_prime_i + alpha_prime_j))\n",
    "        \n",
    "    def calculate_errors(self, X, y):\n",
    "        errors = np.zeros(len(X))\n",
    "        for i in range(len(X)):\n",
    "            errors[i] = self.E(X.iloc[i], y.iloc[i], self.w, self.b)\n",
    "        return errors\n",
    "\n",
    "    def choose_second_alpha(self, E1_index):\n",
    "        E1 = self.errors[E1_index]\n",
    "        if E1 > 0:\n",
    "            E2_index = np.argmin(self.errors)\n",
    "        else:\n",
    "            E2_index = np.argmax(self.errors)\n",
    "        return E2_index\n",
    "    \n",
    "    def train(self,X,y):\n",
    "        self.X = X\n",
    "        self.y = y\n",
    "        self.alpha = np.random.random(X.shape[0])\n",
    "        \n",
    "        self.b = 0\n",
    "        n, d = X.shape[0], X.shape[1]\n",
    "        self.w = self.calc_w(self.alpha, y, X)\n",
    "        non_bound_indices = list(range(n))\n",
    "        self.errors  = self.calculate_errors(X,y)\n",
    "        for count in range(self.epoches):\n",
    "            flag = True\n",
    "            for _ in range(2):  # Outer loop: Two passes, first over entire training set, then over non-bound examples\n",
    "                if _ == 0:  # First pass over entire training set\n",
    "                    indices_to_iterate = range(n)\n",
    "                else:  # Second pass over non-bound examples\n",
    "                    indices_to_iterate = non_bound_indices\n",
    "            for j in indices_to_iterate:\n",
    "                alpha_prime_j= self.alpha[j]\n",
    "                x_j, y_j = X.iloc[j], y.iloc[j]\n",
    "                temp = y_j * (np.dot(self.w.T, x_j.T) + self.b)\n",
    "                if alpha_prime_j == 0 and temp >= 1 - self.epsilon:\n",
    "                    continue\n",
    "                if alpha_prime_j == self.C and temp <= 1 + self.epsilon:\n",
    "                    continue\n",
    "                if 0 < alpha_prime_j < self.C and abs(temp - 1) <= self.epsilon:\n",
    "                    continue\n",
    "#                 i= self.choose_second_alpha(j)\n",
    "                i = j\n",
    "                while i==j:\n",
    "                    i = random.choice(non_bound_indices)\n",
    "                x_i, y_i = X.iloc[i], y.iloc[i]\n",
    "                k_ij = self.kernel(x_i, x_i) + self.kernel(x_j, x_j) - 2 * self.kernel(x_i, x_j)\n",
    "                if k_ij == 0:\n",
    "                    continue\n",
    "                alpha_prime_i = self.alpha[i]\n",
    "                (L, R) = self.compute_limits(self.C, alpha_prime_j, alpha_prime_i, y_j, y_i)\n",
    "\n",
    "                # Compute model parameters\n",
    "                self.w = self.calc_w(self.alpha, y, X)\n",
    "                self.b = self.calc_b(X, y, self.w)\n",
    "\n",
    "                # Compute E_i, E_j\n",
    "                E_i = self.E(x_i, y_i, self.w, self.b)\n",
    "                E_j = self.E(x_j, y_j, self.w, self.b)\n",
    "\n",
    "                # Set new alpha values\n",
    "                self.alpha[j] = alpha_prime_j + float(y_j * (E_i - E_j))/k_ij\n",
    "                self.alpha[j] = max(self.alpha[j], L)\n",
    "                self.alpha[j] = min(self.alpha[j], R)\n",
    "\n",
    "                self.alpha[i] = alpha_prime_i + y_i*y_j * (alpha_prime_j - self.alpha[j])\n",
    "                self.errors  = self.calculate_errors(X,y)\n",
    "            non_bound_indices = [i for i in range(n) if 0 < self.alpha[i] < self.C]\n",
    "            loss = np.sum(self.alpha) - 0.5 * np.sum(np.outer(self.alpha, self.alpha) * np.outer(y, y) * self.kernel(X, X)) # ∑αi – (1/2) ∑i ∑j αi αj yi yj K(xi, xj)\n",
    "            if count%10 ==0:\n",
    "                self.iter.append(count)\n",
    "                self.loss.append(loss)\n",
    "            if flag == True:\n",
    "                break\n",
    "        self.b = self.calc_b(X, y, self.w)  \n",
    "        if self.kernel == 'linear':\n",
    "            self.w = self.calc_w(alpha, y, X)\n",
    "            \n",
    "    def score(self, X, y):\n",
    "        y_hat = self.predict(X)\n",
    "        return np.mean(y == y_hat)\n",
    "    \n",
    "    def predict(self, X):\n",
    "        return self.h(X, self.w, self.b)\n",
    "    \n",
    "    def h(self, X, w, b):\n",
    "        return np.sign(np.dot(w.T, X.T) + b).astype(int)"
   ]
  },
  {
   "cell_type": "code",
   "execution_count": 37,
   "metadata": {
    "execution": {
     "iopub.execute_input": "2024-04-18T14:26:22.522964Z",
     "iopub.status.busy": "2024-04-18T14:26:22.522248Z",
     "iopub.status.idle": "2024-04-18T16:30:12.553845Z",
     "shell.execute_reply": "2024-04-18T16:30:12.555224Z",
     "shell.execute_reply.started": "2024-04-17T17:14:31.651006Z"
    },
    "papermill": {
     "duration": 7430.093415,
     "end_time": "2024-04-18T16:30:12.555945",
     "exception": false,
     "start_time": "2024-04-18T14:26:22.462530",
     "status": "completed"
    },
    "tags": []
   },
   "outputs": [],
   "source": [
    "svm_smo_opt = SVM_SMO_OPT(kernel='rbf')\n",
    "svm_smo_opt.train(X_train,y_train)\n",
    "y_pred=svm_smo_opt.predict(X_test)"
   ]
  },
  {
   "cell_type": "code",
   "execution_count": 38,
   "metadata": {
    "execution": {
     "iopub.execute_input": "2024-04-18T16:30:12.708344Z",
     "iopub.status.busy": "2024-04-18T16:30:12.707171Z",
     "iopub.status.idle": "2024-04-18T16:30:12.856515Z",
     "shell.execute_reply": "2024-04-18T16:30:12.855793Z",
     "shell.execute_reply.started": "2024-04-17T17:15:19.190056Z"
    },
    "papermill": {
     "duration": 0.224074,
     "end_time": "2024-04-18T16:30:12.856700",
     "exception": false,
     "start_time": "2024-04-18T16:30:12.632626",
     "status": "completed"
    },
    "tags": []
   },
   "outputs": [
    {
     "name": "stdout",
     "output_type": "stream",
     "text": [
      "\t\tPredicted Positive\tPredicted Negative\n",
      "Actual Positive\t\t1957\t\t\t217\n",
      "Actual Negative\t\t329\t\t\t2069\n",
      "\n",
      "Precision: 0.9001839926402944\n",
      "Recall: 0.8560804899387576\n",
      "F1 Score: 0.8775784753363228\n",
      "Accuracy: 0.8805774278215223\n"
     ]
    }
   ],
   "source": [
    "confusion_matrix(y_test,y_pred)"
   ]
  },
  {
   "cell_type": "code",
   "execution_count": 39,
   "metadata": {
    "execution": {
     "iopub.execute_input": "2024-04-18T16:30:13.032487Z",
     "iopub.status.busy": "2024-04-18T16:30:13.025145Z",
     "iopub.status.idle": "2024-04-18T16:30:13.233281Z",
     "shell.execute_reply": "2024-04-18T16:30:13.232538Z",
     "shell.execute_reply.started": "2024-04-17T17:17:40.620580Z"
    },
    "papermill": {
     "duration": 0.294514,
     "end_time": "2024-04-18T16:30:13.233481",
     "exception": false,
     "start_time": "2024-04-18T16:30:12.938967",
     "status": "completed"
    },
    "tags": []
   },
   "outputs": [
    {
     "data": {
      "image/png": "[encoded data removed]",
      "text/plain": [
       "<Figure size 432x288 with 1 Axes>"
      ]
     },
     "metadata": {
      "needs_background": "light"
     },
     "output_type": "display_data"
    }
   ],
   "source": [
    "plt.plot(svm_smo.iter, svm_smo.loss,label =\"SMO\")\n",
    "plt.plot(svm_smo_opt.iter, svm_smo_opt.loss,label =\"SMO_OPT\")\n",
    "plt.plot(svm_dual.iter, svm_dual.loss,label =\"Gradient Descent\")\n",
    "plt.plot(svm_batch.iter, svm_batch.loss,label =\"Mini Batch Gradient Descent\")\n",
    "plt.xlabel('Iterations')\n",
    "plt.ylabel('Loss')\n",
    "plt.title('Loss vs. Iterations')\n",
    "plt.legend()\n",
    "plt.show()"
   ]
  },
  {
   "cell_type": "code",
   "execution_count": null,
   "metadata": {
    "papermill": {
     "duration": 0.056975,
     "end_time": "2024-04-18T16:30:13.348158",
     "exception": false,
     "start_time": "2024-04-18T16:30:13.291183",
     "status": "completed"
    },
    "tags": []
   },
   "outputs": [],
   "source": []
  }
 ],
 "metadata": {
  "kaggle": {
   "accelerator": "none",
   "dataSources": [
    {
     "datasetId": 4635375,
     "sourceId": 7894404,
     "sourceType": "datasetVersion"
    },
    {
     "datasetId": 4643493,
     "sourceId": 7905393,
     "sourceType": "datasetVersion"
    },
    {
     "datasetId": 4643565,
     "sourceId": 7905497,
     "sourceType": "datasetVersion"
    },
    {
     "datasetId": 4643587,
     "sourceId": 7905527,
     "sourceType": "datasetVersion"
    },
    {
     "datasetId": 4644487,
     "sourceId": 7906755,
     "sourceType": "datasetVersion"
    },
    {
     "datasetId": 4789871,
     "sourceId": 8108951,
     "sourceType": "datasetVersion"
    }
   ],
   "dockerImageVersionId": 30055,
   "isGpuEnabled": false,
   "isInternetEnabled": true,
   "language": "python",
   "sourceType": "notebook"
  },
  "kernelspec": {
   "display_name": "Python 3",
   "language": "python",
   "name": "python3"
  },
  "language_info": {
   "codemirror_mode": {
    "name": "ipython",
    "version": 3
   },
   "file_extension": ".py",
   "mimetype": "text/x-python",
   "name": "python",
   "nbconvert_exporter": "python",
   "pygments_lexer": "ipython3",
   "version": "3.7.9"
  },
  "papermill": {
   "default_parameters": {},
   "duration": 10348.693388,
   "end_time": "2024-04-18T16:30:14.117244",
   "environment_variables": {},
   "exception": null,
   "input_path": "__notebook__.ipynb",
   "output_path": "__notebook__.ipynb",
   "parameters": {},
   "start_time": "2024-04-18T13:37:45.423856",
   "version": "2.2.2"
  }
 },
 "nbformat": 4,
 "nbformat_minor": 4
}
